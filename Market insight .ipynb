{
 "cells": [
  {
   "cell_type": "code",
   "execution_count": 92,
   "id": "537a731f",
   "metadata": {},
   "outputs": [],
   "source": [
    "import pandas as pd\n",
    "import numpy as np\n",
    "import matplotlib.pyplot as plt\n",
    "import seaborn as sns\n",
    "import datetime as dt"
   ]
  },
  {
   "cell_type": "code",
   "execution_count": 93,
   "id": "372761ce",
   "metadata": {},
   "outputs": [],
   "source": [
    "import warnings\n",
    "warnings.filterwarnings('ignore')"
   ]
  },
  {
   "cell_type": "code",
   "execution_count": 94,
   "id": "172bd0c0",
   "metadata": {},
   "outputs": [],
   "source": [
    "Cust_data = pd.read_excel(r'C:\\Users\\sairam\\Downloads\\analytics lab\\case studies\\machine learning cs\\Market Insights analysis\\Datasets\\CustomersData.xlsx')"
   ]
  },
  {
   "cell_type": "code",
   "execution_count": 95,
   "id": "42bda822",
   "metadata": {},
   "outputs": [],
   "source": [
    "Discount = pd.read_csv(r'C:\\Users\\sairam\\Downloads\\analytics lab\\case studies\\machine learning cs\\Market Insights analysis\\Datasets\\Discount_Coupon.csv')"
   ]
  },
  {
   "cell_type": "code",
   "execution_count": 96,
   "id": "363f345f",
   "metadata": {},
   "outputs": [],
   "source": [
    "Markting_spend = pd.read_csv(r'C:\\Users\\sairam\\Downloads\\analytics lab\\case studies\\machine learning cs\\Market Insights analysis\\Datasets\\Marketing_Spend.csv')"
   ]
  },
  {
   "cell_type": "code",
   "execution_count": 97,
   "id": "f5305c51",
   "metadata": {},
   "outputs": [],
   "source": [
    "Online_sales = pd.read_csv(r'C:\\Users\\sairam\\Downloads\\analytics lab\\case studies\\machine learning cs\\Market Insights analysis\\Datasets\\Online_Sales.csv')"
   ]
  },
  {
   "cell_type": "code",
   "execution_count": 98,
   "id": "095034e3",
   "metadata": {},
   "outputs": [],
   "source": [
    "Tax_amount = pd.read_excel(r'C:\\Users\\sairam\\Downloads\\analytics lab\\case studies\\machine learning cs\\Market Insights analysis\\Datasets\\Tax_amount.xlsx')"
   ]
  },
  {
   "cell_type": "code",
   "execution_count": 99,
   "id": "f8938d5a",
   "metadata": {},
   "outputs": [
    {
     "name": "stdout",
     "output_type": "stream",
     "text": [
      "(1468, 4) (204, 4) (365, 3) (52924, 10) (20, 2)\n"
     ]
    }
   ],
   "source": [
    "print(Cust_data.shape,Discount.shape,Markting_spend.shape,Online_sales.shape,Tax_amount.shape)"
   ]
  },
  {
   "cell_type": "code",
   "execution_count": null,
   "id": "d240ca17",
   "metadata": {},
   "outputs": [],
   "source": []
  },
  {
   "cell_type": "markdown",
   "id": "de4950cd",
   "metadata": {},
   "source": [
    "### changes"
   ]
  },
  {
   "cell_type": "code",
   "execution_count": 100,
   "id": "4aec61cc",
   "metadata": {},
   "outputs": [],
   "source": [
    "Discount.columns = Discount.columns.str.replace(' ','')"
   ]
  },
  {
   "cell_type": "code",
   "execution_count": 101,
   "id": "d1a3b69b",
   "metadata": {},
   "outputs": [],
   "source": [
    "Online_sales['Transaction_Date'] = pd.to_datetime(Online_sales['Transaction_Date'], format='%Y%m%d')"
   ]
  },
  {
   "cell_type": "code",
   "execution_count": 102,
   "id": "848fe4a9",
   "metadata": {},
   "outputs": [],
   "source": [
    "Markting_spend['Date'] = pd.to_datetime(Markting_spend['Date'], format='%m/%d/%Y')"
   ]
  },
  {
   "cell_type": "code",
   "execution_count": 103,
   "id": "019ec78a",
   "metadata": {},
   "outputs": [],
   "source": [
    "Discount['Month'] = pd.to_datetime(Discount['Month'],format='%b')"
   ]
  },
  {
   "cell_type": "code",
   "execution_count": 104,
   "id": "58f570d9",
   "metadata": {},
   "outputs": [],
   "source": [
    "Discount['Month'] = Discount['Month'].dt.month"
   ]
  },
  {
   "cell_type": "code",
   "execution_count": 105,
   "id": "31e53174",
   "metadata": {},
   "outputs": [],
   "source": [
    "Online_sales['Month'] = Online_sales['Transaction_Date'].dt.month"
   ]
  },
  {
   "cell_type": "markdown",
   "id": "043fd9d8",
   "metadata": {},
   "source": [
    "### end"
   ]
  },
  {
   "cell_type": "markdown",
   "id": "de06d81c",
   "metadata": {},
   "source": [
    "# Merging"
   ]
  },
  {
   "cell_type": "code",
   "execution_count": 106,
   "id": "d2e26ae5",
   "metadata": {},
   "outputs": [],
   "source": [
    "a = pd.merge(Cust_data,Online_sales,left_on='CustomerID',right_on='CustomerID',how='left')"
   ]
  },
  {
   "cell_type": "code",
   "execution_count": 107,
   "id": "2ce9078e",
   "metadata": {},
   "outputs": [],
   "source": [
    "b = pd.merge(a,Discount,on=['Month','Product_Category'],how='left')"
   ]
  },
  {
   "cell_type": "code",
   "execution_count": 108,
   "id": "050a4590",
   "metadata": {},
   "outputs": [],
   "source": [
    "c = pd.merge(b,Tax_amount,left_on='Product_Category',right_on='Product_Category',how='left')"
   ]
  },
  {
   "cell_type": "code",
   "execution_count": 109,
   "id": "9ad748ca",
   "metadata": {},
   "outputs": [],
   "source": [
    "df = pd.merge(c,Markting_spend,left_on='Transaction_Date',right_on='Date',how='left')"
   ]
  },
  {
   "cell_type": "code",
   "execution_count": 110,
   "id": "61266242",
   "metadata": {},
   "outputs": [
    {
     "data": {
      "text/plain": [
       "(52924, 11)"
      ]
     },
     "execution_count": 110,
     "metadata": {},
     "output_type": "execute_result"
    }
   ],
   "source": [
    "Online_sales.shape"
   ]
  },
  {
   "cell_type": "code",
   "execution_count": 111,
   "id": "0a77de67",
   "metadata": {},
   "outputs": [
    {
     "data": {
      "text/plain": [
       "(52924, 20)"
      ]
     },
     "execution_count": 111,
     "metadata": {},
     "output_type": "execute_result"
    }
   ],
   "source": [
    "df.shape"
   ]
  },
  {
   "cell_type": "code",
   "execution_count": 112,
   "id": "97fb9e72",
   "metadata": {},
   "outputs": [
    {
     "data": {
      "text/plain": [
       "CustomerID                      int64\n",
       "Gender                         object\n",
       "Location                       object\n",
       "Tenure_Months                   int64\n",
       "Transaction_ID                  int64\n",
       "Transaction_Date       datetime64[ns]\n",
       "Product_SKU                    object\n",
       "Product_Description            object\n",
       "Product_Category               object\n",
       "Quantity                        int64\n",
       "Avg_Price                     float64\n",
       "Delivery_Charges              float64\n",
       "Coupon_Status                  object\n",
       "Month                           int64\n",
       "Coupon_Code                    object\n",
       "Discount_pct                  float64\n",
       "GST                           float64\n",
       "Date                   datetime64[ns]\n",
       "Offline_Spend                   int64\n",
       "Online_Spend                  float64\n",
       "dtype: object"
      ]
     },
     "execution_count": 112,
     "metadata": {},
     "output_type": "execute_result"
    }
   ],
   "source": [
    "df.dtypes"
   ]
  },
  {
   "cell_type": "code",
   "execution_count": 113,
   "id": "0410000b",
   "metadata": {},
   "outputs": [
    {
     "data": {
      "text/plain": [
       "CustomerID               0\n",
       "Gender                   0\n",
       "Location                 0\n",
       "Tenure_Months            0\n",
       "Transaction_ID           0\n",
       "Transaction_Date         0\n",
       "Product_SKU              0\n",
       "Product_Description      0\n",
       "Product_Category         0\n",
       "Quantity                 0\n",
       "Avg_Price                0\n",
       "Delivery_Charges         0\n",
       "Coupon_Status            0\n",
       "Month                    0\n",
       "Coupon_Code            400\n",
       "Discount_pct           400\n",
       "GST                      0\n",
       "Date                     0\n",
       "Offline_Spend            0\n",
       "Online_Spend             0\n",
       "dtype: int64"
      ]
     },
     "execution_count": 113,
     "metadata": {},
     "output_type": "execute_result"
    }
   ],
   "source": [
    "df.isnull().sum()"
   ]
  },
  {
   "cell_type": "code",
   "execution_count": 114,
   "id": "9f92ea1d",
   "metadata": {},
   "outputs": [],
   "source": [
    "df = df.fillna(0)"
   ]
  },
  {
   "cell_type": "markdown",
   "id": "067e1296",
   "metadata": {},
   "source": [
    "# 1"
   ]
  },
  {
   "cell_type": "raw",
   "id": "909c5d7a",
   "metadata": {},
   "source": [
    "## Invoice Value =(( Quantity*Avg_price)*(1-Dicount_pct)*(1+GST))+Delivery_Charges"
   ]
  },
  {
   "cell_type": "code",
   "execution_count": 115,
   "id": "72053aee",
   "metadata": {},
   "outputs": [
    {
     "data": {
      "text/plain": [
       "Index(['CustomerID', 'Gender', 'Location', 'Tenure_Months', 'Transaction_ID',\n",
       "       'Transaction_Date', 'Product_SKU', 'Product_Description',\n",
       "       'Product_Category', 'Quantity', 'Avg_Price', 'Delivery_Charges',\n",
       "       'Coupon_Status', 'Month', 'Coupon_Code', 'Discount_pct', 'GST', 'Date',\n",
       "       'Offline_Spend', 'Online_Spend'],\n",
       "      dtype='object')"
      ]
     },
     "execution_count": 115,
     "metadata": {},
     "output_type": "execute_result"
    }
   ],
   "source": [
    "df.columns"
   ]
  },
  {
   "cell_type": "code",
   "execution_count": 116,
   "id": "fd20b9ee",
   "metadata": {},
   "outputs": [],
   "source": [
    "df['Invoice'] = np.where(\n",
    "    df['Coupon_Status'] == 'Used',\n",
    "    ((df['Quantity'] * df['Avg_Price']) * (1 - df['Discount_pct']/100) * (1 + df['GST'])) + df['Delivery_Charges'],\n",
    "    ((df['Quantity'] * df['Avg_Price']) * (1 + df['GST'])) + df['Delivery_Charges']\n",
    ")"
   ]
  },
  {
   "cell_type": "markdown",
   "id": "6635f583",
   "metadata": {},
   "source": [
    "# 2"
   ]
  },
  {
   "cell_type": "markdown",
   "id": "7f228b89",
   "metadata": {},
   "source": [
    "###    customer acquired "
   ]
  },
  {
   "cell_type": "code",
   "execution_count": 117,
   "id": "ff437dc8",
   "metadata": {},
   "outputs": [],
   "source": [
    "x = pd.DataFrame(df[['Month','CustomerID']].groupby('Month')['CustomerID'].agg([('set', set)]).reset_index())"
   ]
  },
  {
   "cell_type": "code",
   "execution_count": 118,
   "id": "f9450aa9",
   "metadata": {},
   "outputs": [],
   "source": [
    "list_ = []\n",
    "for i in range(12):\n",
    "    cnt = len(x['set'][i])\n",
    "    list_.append(cnt)"
   ]
  },
  {
   "cell_type": "code",
   "execution_count": 119,
   "id": "28622cb2",
   "metadata": {},
   "outputs": [],
   "source": [
    "list_ = pd.DataFrame(list_,columns=['cnt'])"
   ]
  },
  {
   "cell_type": "code",
   "execution_count": 120,
   "id": "012b1dc1",
   "metadata": {},
   "outputs": [],
   "source": [
    "x = pd.concat([x,list_],axis=1)"
   ]
  },
  {
   "cell_type": "code",
   "execution_count": 121,
   "id": "7ed84754",
   "metadata": {},
   "outputs": [
    {
     "data": {
      "text/html": [
       "<div>\n",
       "<style scoped>\n",
       "    .dataframe tbody tr th:only-of-type {\n",
       "        vertical-align: middle;\n",
       "    }\n",
       "\n",
       "    .dataframe tbody tr th {\n",
       "        vertical-align: top;\n",
       "    }\n",
       "\n",
       "    .dataframe thead th {\n",
       "        text-align: right;\n",
       "    }\n",
       "</style>\n",
       "<table border=\"1\" class=\"dataframe\">\n",
       "  <thead>\n",
       "    <tr style=\"text-align: right;\">\n",
       "      <th></th>\n",
       "      <th>Month</th>\n",
       "      <th>set</th>\n",
       "      <th>cnt</th>\n",
       "    </tr>\n",
       "  </thead>\n",
       "  <tbody>\n",
       "    <tr>\n",
       "      <th>0</th>\n",
       "      <td>1</td>\n",
       "      <td>{17920, 14849, 15363, 17924, 17925, 17412, 174...</td>\n",
       "      <td>215</td>\n",
       "    </tr>\n",
       "    <tr>\n",
       "      <th>1</th>\n",
       "      <td>2</td>\n",
       "      <td>{13831, 15880, 16905, 16393, 15373, 13838, 158...</td>\n",
       "      <td>109</td>\n",
       "    </tr>\n",
       "    <tr>\n",
       "      <th>2</th>\n",
       "      <td>3</td>\n",
       "      <td>{17920, 16898, 14850, 13319, 12808, 14344, 158...</td>\n",
       "      <td>208</td>\n",
       "    </tr>\n",
       "    <tr>\n",
       "      <th>3</th>\n",
       "      <td>4</td>\n",
       "      <td>{16385, 16898, 17411, 13319, 15881, 16907, 133...</td>\n",
       "      <td>224</td>\n",
       "    </tr>\n",
       "    <tr>\n",
       "      <th>4</th>\n",
       "      <td>5</td>\n",
       "      <td>{15361, 16899, 16393, 15881, 13324, 17404, 133...</td>\n",
       "      <td>200</td>\n",
       "    </tr>\n",
       "    <tr>\n",
       "      <th>5</th>\n",
       "      <td>6</td>\n",
       "      <td>{14849, 17412, 13829, 13317, 15366, 14344, 153...</td>\n",
       "      <td>259</td>\n",
       "    </tr>\n",
       "    <tr>\n",
       "      <th>6</th>\n",
       "      <td>7</td>\n",
       "      <td>{13313, 17924, 13319, 15373, 13329, 15379, 174...</td>\n",
       "      <td>236</td>\n",
       "    </tr>\n",
       "    <tr>\n",
       "      <th>7</th>\n",
       "      <td>8</td>\n",
       "      <td>{15370, 16395, 13842, 14867, 17428, 16923, 128...</td>\n",
       "      <td>300</td>\n",
       "    </tr>\n",
       "    <tr>\n",
       "      <th>8</th>\n",
       "      <td>9</td>\n",
       "      <td>{16904, 17418, 17419, 16395, 16912, 16401, 153...</td>\n",
       "      <td>193</td>\n",
       "    </tr>\n",
       "    <tr>\n",
       "      <th>9</th>\n",
       "      <td>10</td>\n",
       "      <td>{14849, 16387, 14341, 15373, 13837, 12829, 138...</td>\n",
       "      <td>210</td>\n",
       "    </tr>\n",
       "    <tr>\n",
       "      <th>10</th>\n",
       "      <td>11</td>\n",
       "      <td>{17920, 14849, 16897, 14341, 15365, 13324, 133...</td>\n",
       "      <td>188</td>\n",
       "    </tr>\n",
       "    <tr>\n",
       "      <th>11</th>\n",
       "      <td>12</td>\n",
       "      <td>{13824, 14850, 15881, 17929, 15885, 13842, 164...</td>\n",
       "      <td>236</td>\n",
       "    </tr>\n",
       "  </tbody>\n",
       "</table>\n",
       "</div>"
      ],
      "text/plain": [
       "    Month                                                set  cnt\n",
       "0       1  {17920, 14849, 15363, 17924, 17925, 17412, 174...  215\n",
       "1       2  {13831, 15880, 16905, 16393, 15373, 13838, 158...  109\n",
       "2       3  {17920, 16898, 14850, 13319, 12808, 14344, 158...  208\n",
       "3       4  {16385, 16898, 17411, 13319, 15881, 16907, 133...  224\n",
       "4       5  {15361, 16899, 16393, 15881, 13324, 17404, 133...  200\n",
       "5       6  {14849, 17412, 13829, 13317, 15366, 14344, 153...  259\n",
       "6       7  {13313, 17924, 13319, 15373, 13329, 15379, 174...  236\n",
       "7       8  {15370, 16395, 13842, 14867, 17428, 16923, 128...  300\n",
       "8       9  {16904, 17418, 17419, 16395, 16912, 16401, 153...  193\n",
       "9      10  {14849, 16387, 14341, 15373, 13837, 12829, 138...  210\n",
       "10     11  {17920, 14849, 16897, 14341, 15365, 13324, 133...  188\n",
       "11     12  {13824, 14850, 15881, 17929, 15885, 13842, 164...  236"
      ]
     },
     "execution_count": 121,
     "metadata": {},
     "output_type": "execute_result"
    }
   ],
   "source": [
    "x"
   ]
  },
  {
   "cell_type": "code",
   "execution_count": 122,
   "id": "4339cd11",
   "metadata": {},
   "outputs": [],
   "source": [
    "# new customer count\n",
    "f = []\n",
    "for i in range(12):\n",
    "    abc = len(x['set'].iloc[0+i].difference(*x['set'].iloc[:0+i]))\n",
    "    f.append(abc)\n",
    "f = pd.DataFrame(f,columns=['customer_acq_cnt'])"
   ]
  },
  {
   "cell_type": "code",
   "execution_count": 123,
   "id": "d4a360c3",
   "metadata": {},
   "outputs": [],
   "source": [
    "x = pd.concat([x,f],axis=1)"
   ]
  },
  {
   "cell_type": "code",
   "execution_count": 124,
   "id": "7698019c",
   "metadata": {},
   "outputs": [],
   "source": [
    "# Alternate method \n",
    "# for i in range(1, len(new_customers)):\n",
    "#     acquired_customers.append(len(new_customers[i] - new_customers[i - 1]))"
   ]
  },
  {
   "cell_type": "code",
   "execution_count": 125,
   "id": "cc6ba4d4",
   "metadata": {},
   "outputs": [
    {
     "data": {
      "text/html": [
       "<div>\n",
       "<style scoped>\n",
       "    .dataframe tbody tr th:only-of-type {\n",
       "        vertical-align: middle;\n",
       "    }\n",
       "\n",
       "    .dataframe tbody tr th {\n",
       "        vertical-align: top;\n",
       "    }\n",
       "\n",
       "    .dataframe thead th {\n",
       "        text-align: right;\n",
       "    }\n",
       "</style>\n",
       "<table border=\"1\" class=\"dataframe\">\n",
       "  <thead>\n",
       "    <tr style=\"text-align: right;\">\n",
       "      <th></th>\n",
       "      <th>Month</th>\n",
       "      <th>set</th>\n",
       "      <th>cnt</th>\n",
       "      <th>customer_acq_cnt</th>\n",
       "    </tr>\n",
       "  </thead>\n",
       "  <tbody>\n",
       "    <tr>\n",
       "      <th>0</th>\n",
       "      <td>1</td>\n",
       "      <td>{17920, 14849, 15363, 17924, 17925, 17412, 174...</td>\n",
       "      <td>215</td>\n",
       "      <td>215</td>\n",
       "    </tr>\n",
       "    <tr>\n",
       "      <th>1</th>\n",
       "      <td>2</td>\n",
       "      <td>{13831, 15880, 16905, 16393, 15373, 13838, 158...</td>\n",
       "      <td>109</td>\n",
       "      <td>96</td>\n",
       "    </tr>\n",
       "    <tr>\n",
       "      <th>2</th>\n",
       "      <td>3</td>\n",
       "      <td>{17920, 16898, 14850, 13319, 12808, 14344, 158...</td>\n",
       "      <td>208</td>\n",
       "      <td>177</td>\n",
       "    </tr>\n",
       "    <tr>\n",
       "      <th>3</th>\n",
       "      <td>4</td>\n",
       "      <td>{16385, 16898, 17411, 13319, 15881, 16907, 133...</td>\n",
       "      <td>224</td>\n",
       "      <td>163</td>\n",
       "    </tr>\n",
       "    <tr>\n",
       "      <th>4</th>\n",
       "      <td>5</td>\n",
       "      <td>{15361, 16899, 16393, 15881, 13324, 17404, 133...</td>\n",
       "      <td>200</td>\n",
       "      <td>112</td>\n",
       "    </tr>\n",
       "    <tr>\n",
       "      <th>5</th>\n",
       "      <td>6</td>\n",
       "      <td>{14849, 17412, 13829, 13317, 15366, 14344, 153...</td>\n",
       "      <td>259</td>\n",
       "      <td>137</td>\n",
       "    </tr>\n",
       "    <tr>\n",
       "      <th>6</th>\n",
       "      <td>7</td>\n",
       "      <td>{13313, 17924, 13319, 15373, 13329, 15379, 174...</td>\n",
       "      <td>236</td>\n",
       "      <td>94</td>\n",
       "    </tr>\n",
       "    <tr>\n",
       "      <th>7</th>\n",
       "      <td>8</td>\n",
       "      <td>{15370, 16395, 13842, 14867, 17428, 16923, 128...</td>\n",
       "      <td>300</td>\n",
       "      <td>135</td>\n",
       "    </tr>\n",
       "    <tr>\n",
       "      <th>8</th>\n",
       "      <td>9</td>\n",
       "      <td>{16904, 17418, 17419, 16395, 16912, 16401, 153...</td>\n",
       "      <td>193</td>\n",
       "      <td>78</td>\n",
       "    </tr>\n",
       "    <tr>\n",
       "      <th>9</th>\n",
       "      <td>10</td>\n",
       "      <td>{14849, 16387, 14341, 15373, 13837, 12829, 138...</td>\n",
       "      <td>210</td>\n",
       "      <td>87</td>\n",
       "    </tr>\n",
       "    <tr>\n",
       "      <th>10</th>\n",
       "      <td>11</td>\n",
       "      <td>{17920, 14849, 16897, 14341, 15365, 13324, 133...</td>\n",
       "      <td>188</td>\n",
       "      <td>68</td>\n",
       "    </tr>\n",
       "    <tr>\n",
       "      <th>11</th>\n",
       "      <td>12</td>\n",
       "      <td>{13824, 14850, 15881, 17929, 15885, 13842, 164...</td>\n",
       "      <td>236</td>\n",
       "      <td>106</td>\n",
       "    </tr>\n",
       "  </tbody>\n",
       "</table>\n",
       "</div>"
      ],
      "text/plain": [
       "    Month                                                set  cnt  \\\n",
       "0       1  {17920, 14849, 15363, 17924, 17925, 17412, 174...  215   \n",
       "1       2  {13831, 15880, 16905, 16393, 15373, 13838, 158...  109   \n",
       "2       3  {17920, 16898, 14850, 13319, 12808, 14344, 158...  208   \n",
       "3       4  {16385, 16898, 17411, 13319, 15881, 16907, 133...  224   \n",
       "4       5  {15361, 16899, 16393, 15881, 13324, 17404, 133...  200   \n",
       "5       6  {14849, 17412, 13829, 13317, 15366, 14344, 153...  259   \n",
       "6       7  {13313, 17924, 13319, 15373, 13329, 15379, 174...  236   \n",
       "7       8  {15370, 16395, 13842, 14867, 17428, 16923, 128...  300   \n",
       "8       9  {16904, 17418, 17419, 16395, 16912, 16401, 153...  193   \n",
       "9      10  {14849, 16387, 14341, 15373, 13837, 12829, 138...  210   \n",
       "10     11  {17920, 14849, 16897, 14341, 15365, 13324, 133...  188   \n",
       "11     12  {13824, 14850, 15881, 17929, 15885, 13842, 164...  236   \n",
       "\n",
       "    customer_acq_cnt  \n",
       "0                215  \n",
       "1                 96  \n",
       "2                177  \n",
       "3                163  \n",
       "4                112  \n",
       "5                137  \n",
       "6                 94  \n",
       "7                135  \n",
       "8                 78  \n",
       "9                 87  \n",
       "10                68  \n",
       "11               106  "
      ]
     },
     "execution_count": 125,
     "metadata": {},
     "output_type": "execute_result"
    }
   ],
   "source": [
    "x"
   ]
  },
  {
   "cell_type": "code",
   "execution_count": 126,
   "id": "a394e1af",
   "metadata": {},
   "outputs": [
    {
     "data": {
      "image/png": "[encoded data removed]",
      "text/plain": [
       "<Figure size 640x480 with 1 Axes>"
      ]
     },
     "metadata": {},
     "output_type": "display_data"
    }
   ],
   "source": [
    "plt.plot(x['customer_acq_cnt'])\n",
    "sns.barplot(x=x['Month'], y=x['customer_acq_cnt'],color='pink')\n",
    "plt.xlabel('Month')\n",
    "plt.ylabel('no. of customer')\n",
    "plt.title('Customer Acquisition Count by Month', fontsize=16)\n",
    "plt.show()"
   ]
  },
  {
   "cell_type": "markdown",
   "id": "2247a78e",
   "metadata": {},
   "source": [
    "## customer retention month on month "
   ]
  },
  {
   "cell_type": "code",
   "execution_count": 127,
   "id": "d82a42c0",
   "metadata": {},
   "outputs": [],
   "source": [
    "# for old customer count \n",
    "x['difference_by_previous'] =np.nan\n",
    "for i in range(1,12):\n",
    "    x['difference_by_previous'][i] =  len(x['set'][i].difference(x['set'][i-1]))"
   ]
  },
  {
   "cell_type": "code",
   "execution_count": 128,
   "id": "f506ba3a",
   "metadata": {},
   "outputs": [
    {
     "data": {
      "text/html": [
       "<div>\n",
       "<style scoped>\n",
       "    .dataframe tbody tr th:only-of-type {\n",
       "        vertical-align: middle;\n",
       "    }\n",
       "\n",
       "    .dataframe tbody tr th {\n",
       "        vertical-align: top;\n",
       "    }\n",
       "\n",
       "    .dataframe thead th {\n",
       "        text-align: right;\n",
       "    }\n",
       "</style>\n",
       "<table border=\"1\" class=\"dataframe\">\n",
       "  <thead>\n",
       "    <tr style=\"text-align: right;\">\n",
       "      <th></th>\n",
       "      <th>Month</th>\n",
       "      <th>set</th>\n",
       "      <th>cnt</th>\n",
       "      <th>customer_acq_cnt</th>\n",
       "      <th>difference_by_previous</th>\n",
       "    </tr>\n",
       "  </thead>\n",
       "  <tbody>\n",
       "    <tr>\n",
       "      <th>0</th>\n",
       "      <td>1</td>\n",
       "      <td>{17920, 14849, 15363, 17924, 17925, 17412, 174...</td>\n",
       "      <td>215</td>\n",
       "      <td>215</td>\n",
       "      <td>NaN</td>\n",
       "    </tr>\n",
       "    <tr>\n",
       "      <th>1</th>\n",
       "      <td>2</td>\n",
       "      <td>{13831, 15880, 16905, 16393, 15373, 13838, 158...</td>\n",
       "      <td>109</td>\n",
       "      <td>96</td>\n",
       "      <td>96.0</td>\n",
       "    </tr>\n",
       "    <tr>\n",
       "      <th>2</th>\n",
       "      <td>3</td>\n",
       "      <td>{17920, 16898, 14850, 13319, 12808, 14344, 158...</td>\n",
       "      <td>208</td>\n",
       "      <td>177</td>\n",
       "      <td>197.0</td>\n",
       "    </tr>\n",
       "    <tr>\n",
       "      <th>3</th>\n",
       "      <td>4</td>\n",
       "      <td>{16385, 16898, 17411, 13319, 15881, 16907, 133...</td>\n",
       "      <td>224</td>\n",
       "      <td>163</td>\n",
       "      <td>200.0</td>\n",
       "    </tr>\n",
       "    <tr>\n",
       "      <th>4</th>\n",
       "      <td>5</td>\n",
       "      <td>{15361, 16899, 16393, 15881, 13324, 17404, 133...</td>\n",
       "      <td>200</td>\n",
       "      <td>112</td>\n",
       "      <td>175.0</td>\n",
       "    </tr>\n",
       "    <tr>\n",
       "      <th>5</th>\n",
       "      <td>6</td>\n",
       "      <td>{14849, 17412, 13829, 13317, 15366, 14344, 153...</td>\n",
       "      <td>259</td>\n",
       "      <td>137</td>\n",
       "      <td>222.0</td>\n",
       "    </tr>\n",
       "    <tr>\n",
       "      <th>6</th>\n",
       "      <td>7</td>\n",
       "      <td>{13313, 17924, 13319, 15373, 13329, 15379, 174...</td>\n",
       "      <td>236</td>\n",
       "      <td>94</td>\n",
       "      <td>178.0</td>\n",
       "    </tr>\n",
       "    <tr>\n",
       "      <th>7</th>\n",
       "      <td>8</td>\n",
       "      <td>{15370, 16395, 13842, 14867, 17428, 16923, 128...</td>\n",
       "      <td>300</td>\n",
       "      <td>135</td>\n",
       "      <td>235.0</td>\n",
       "    </tr>\n",
       "    <tr>\n",
       "      <th>8</th>\n",
       "      <td>9</td>\n",
       "      <td>{16904, 17418, 17419, 16395, 16912, 16401, 153...</td>\n",
       "      <td>193</td>\n",
       "      <td>78</td>\n",
       "      <td>149.0</td>\n",
       "    </tr>\n",
       "    <tr>\n",
       "      <th>9</th>\n",
       "      <td>10</td>\n",
       "      <td>{14849, 16387, 14341, 15373, 13837, 12829, 138...</td>\n",
       "      <td>210</td>\n",
       "      <td>87</td>\n",
       "      <td>181.0</td>\n",
       "    </tr>\n",
       "    <tr>\n",
       "      <th>10</th>\n",
       "      <td>11</td>\n",
       "      <td>{17920, 14849, 16897, 14341, 15365, 13324, 133...</td>\n",
       "      <td>188</td>\n",
       "      <td>68</td>\n",
       "      <td>157.0</td>\n",
       "    </tr>\n",
       "    <tr>\n",
       "      <th>11</th>\n",
       "      <td>12</td>\n",
       "      <td>{13824, 14850, 15881, 17929, 15885, 13842, 164...</td>\n",
       "      <td>236</td>\n",
       "      <td>106</td>\n",
       "      <td>208.0</td>\n",
       "    </tr>\n",
       "  </tbody>\n",
       "</table>\n",
       "</div>"
      ],
      "text/plain": [
       "    Month                                                set  cnt  \\\n",
       "0       1  {17920, 14849, 15363, 17924, 17925, 17412, 174...  215   \n",
       "1       2  {13831, 15880, 16905, 16393, 15373, 13838, 158...  109   \n",
       "2       3  {17920, 16898, 14850, 13319, 12808, 14344, 158...  208   \n",
       "3       4  {16385, 16898, 17411, 13319, 15881, 16907, 133...  224   \n",
       "4       5  {15361, 16899, 16393, 15881, 13324, 17404, 133...  200   \n",
       "5       6  {14849, 17412, 13829, 13317, 15366, 14344, 153...  259   \n",
       "6       7  {13313, 17924, 13319, 15373, 13329, 15379, 174...  236   \n",
       "7       8  {15370, 16395, 13842, 14867, 17428, 16923, 128...  300   \n",
       "8       9  {16904, 17418, 17419, 16395, 16912, 16401, 153...  193   \n",
       "9      10  {14849, 16387, 14341, 15373, 13837, 12829, 138...  210   \n",
       "10     11  {17920, 14849, 16897, 14341, 15365, 13324, 133...  188   \n",
       "11     12  {13824, 14850, 15881, 17929, 15885, 13842, 164...  236   \n",
       "\n",
       "    customer_acq_cnt  difference_by_previous  \n",
       "0                215                     NaN  \n",
       "1                 96                    96.0  \n",
       "2                177                   197.0  \n",
       "3                163                   200.0  \n",
       "4                112                   175.0  \n",
       "5                137                   222.0  \n",
       "6                 94                   178.0  \n",
       "7                135                   235.0  \n",
       "8                 78                   149.0  \n",
       "9                 87                   181.0  \n",
       "10                68                   157.0  \n",
       "11               106                   208.0  "
      ]
     },
     "execution_count": 128,
     "metadata": {},
     "output_type": "execute_result"
    }
   ],
   "source": [
    "x"
   ]
  },
  {
   "cell_type": "code",
   "execution_count": 129,
   "id": "0a4248d6",
   "metadata": {},
   "outputs": [
    {
     "data": {
      "text/plain": [
       "1998.0"
      ]
     },
     "execution_count": 129,
     "metadata": {},
     "output_type": "execute_result"
    }
   ],
   "source": [
    "x['difference_by_previous'].sum()"
   ]
  },
  {
   "cell_type": "code",
   "execution_count": 130,
   "id": "6147cddf",
   "metadata": {},
   "outputs": [],
   "source": [
    "x['customer_retention_cnt'] = x['cnt']-x['difference_by_previous']"
   ]
  },
  {
   "cell_type": "code",
   "execution_count": 131,
   "id": "462798c7",
   "metadata": {},
   "outputs": [
    {
     "data": {
      "text/html": [
       "<div>\n",
       "<style scoped>\n",
       "    .dataframe tbody tr th:only-of-type {\n",
       "        vertical-align: middle;\n",
       "    }\n",
       "\n",
       "    .dataframe tbody tr th {\n",
       "        vertical-align: top;\n",
       "    }\n",
       "\n",
       "    .dataframe thead th {\n",
       "        text-align: right;\n",
       "    }\n",
       "</style>\n",
       "<table border=\"1\" class=\"dataframe\">\n",
       "  <thead>\n",
       "    <tr style=\"text-align: right;\">\n",
       "      <th></th>\n",
       "      <th>Month</th>\n",
       "      <th>customer_acq_cnt</th>\n",
       "      <th>customer_retention_cnt</th>\n",
       "    </tr>\n",
       "  </thead>\n",
       "  <tbody>\n",
       "    <tr>\n",
       "      <th>0</th>\n",
       "      <td>1</td>\n",
       "      <td>215</td>\n",
       "      <td>NaN</td>\n",
       "    </tr>\n",
       "    <tr>\n",
       "      <th>1</th>\n",
       "      <td>2</td>\n",
       "      <td>96</td>\n",
       "      <td>13.0</td>\n",
       "    </tr>\n",
       "    <tr>\n",
       "      <th>2</th>\n",
       "      <td>3</td>\n",
       "      <td>177</td>\n",
       "      <td>11.0</td>\n",
       "    </tr>\n",
       "    <tr>\n",
       "      <th>3</th>\n",
       "      <td>4</td>\n",
       "      <td>163</td>\n",
       "      <td>24.0</td>\n",
       "    </tr>\n",
       "    <tr>\n",
       "      <th>4</th>\n",
       "      <td>5</td>\n",
       "      <td>112</td>\n",
       "      <td>25.0</td>\n",
       "    </tr>\n",
       "    <tr>\n",
       "      <th>5</th>\n",
       "      <td>6</td>\n",
       "      <td>137</td>\n",
       "      <td>37.0</td>\n",
       "    </tr>\n",
       "    <tr>\n",
       "      <th>6</th>\n",
       "      <td>7</td>\n",
       "      <td>94</td>\n",
       "      <td>58.0</td>\n",
       "    </tr>\n",
       "    <tr>\n",
       "      <th>7</th>\n",
       "      <td>8</td>\n",
       "      <td>135</td>\n",
       "      <td>65.0</td>\n",
       "    </tr>\n",
       "    <tr>\n",
       "      <th>8</th>\n",
       "      <td>9</td>\n",
       "      <td>78</td>\n",
       "      <td>44.0</td>\n",
       "    </tr>\n",
       "    <tr>\n",
       "      <th>9</th>\n",
       "      <td>10</td>\n",
       "      <td>87</td>\n",
       "      <td>29.0</td>\n",
       "    </tr>\n",
       "    <tr>\n",
       "      <th>10</th>\n",
       "      <td>11</td>\n",
       "      <td>68</td>\n",
       "      <td>31.0</td>\n",
       "    </tr>\n",
       "    <tr>\n",
       "      <th>11</th>\n",
       "      <td>12</td>\n",
       "      <td>106</td>\n",
       "      <td>28.0</td>\n",
       "    </tr>\n",
       "  </tbody>\n",
       "</table>\n",
       "</div>"
      ],
      "text/plain": [
       "    Month  customer_acq_cnt  customer_retention_cnt\n",
       "0       1               215                     NaN\n",
       "1       2                96                    13.0\n",
       "2       3               177                    11.0\n",
       "3       4               163                    24.0\n",
       "4       5               112                    25.0\n",
       "5       6               137                    37.0\n",
       "6       7                94                    58.0\n",
       "7       8               135                    65.0\n",
       "8       9                78                    44.0\n",
       "9      10                87                    29.0\n",
       "10     11                68                    31.0\n",
       "11     12               106                    28.0"
      ]
     },
     "execution_count": 131,
     "metadata": {},
     "output_type": "execute_result"
    }
   ],
   "source": [
    "x[['Month','customer_acq_cnt','customer_retention_cnt']]"
   ]
  },
  {
   "cell_type": "code",
   "execution_count": 132,
   "id": "0d9d4625",
   "metadata": {},
   "outputs": [
    {
     "data": {
      "image/png": "[encoded data removed]",
      "text/plain": [
       "<Figure size 640x480 with 1 Axes>"
      ]
     },
     "metadata": {},
     "output_type": "display_data"
    }
   ],
   "source": [
    "sns.barplot(x = x['Month'], y = x['customer_retention_cnt'])\n",
    "plt.xlabel('Month')\n",
    "plt.ylabel('count')\n",
    "plt.title('Customer retained month by month', fontsize=16)\n",
    "plt.show()"
   ]
  },
  {
   "cell_type": "code",
   "execution_count": 133,
   "id": "4573751b",
   "metadata": {},
   "outputs": [],
   "source": [
    "compare0 = x[['Month','customer_retention_cnt','customer_acq_cnt']]"
   ]
  },
  {
   "cell_type": "code",
   "execution_count": 134,
   "id": "516fd5e3",
   "metadata": {},
   "outputs": [],
   "source": [
    "x1 =[ i-0.35/2 for i in range(0,12)]\n",
    "x2 =[ i+0.35/2 for i in range(0,12)]"
   ]
  },
  {
   "cell_type": "code",
   "execution_count": 135,
   "id": "eedabeec",
   "metadata": {},
   "outputs": [
    {
     "data": {
      "text/plain": [
       "<matplotlib.legend.Legend at 0x78031fcca0>"
      ]
     },
     "execution_count": 135,
     "metadata": {},
     "output_type": "execute_result"
    },
    {
     "data": {
      "image/png": "[encoded data removed]",
      "text/plain": [
       "<Figure size 640x480 with 1 Axes>"
      ]
     },
     "metadata": {},
     "output_type": "display_data"
    }
   ],
   "source": [
    "plt.plot(compare0['customer_retention_cnt'])\n",
    "plt.bar(x1 ,compare0['customer_retention_cnt'],width=0.35,label = 'old', color ='blue',alpha=0.8,tick_label=compare0['Month'])\n",
    "plt.plot(compare0['customer_acq_cnt'])\n",
    "plt.bar(x2, compare0['customer_acq_cnt'],width=0.35,label = 'new',color ='pink')\n",
    "plt.title(' Comparision of new customer and old customer ', fontsize = 16)\n",
    "plt.legend()"
   ]
  },
  {
   "cell_type": "code",
   "execution_count": null,
   "id": "5fde6cd2",
   "metadata": {},
   "outputs": [],
   "source": []
  },
  {
   "cell_type": "code",
   "execution_count": null,
   "id": "17c5d865",
   "metadata": {},
   "outputs": [],
   "source": []
  },
  {
   "cell_type": "markdown",
   "id": "a31fcfb1",
   "metadata": {},
   "source": [
    "# revenue from new/old customer "
   ]
  },
  {
   "cell_type": "markdown",
   "id": "48315298",
   "metadata": {},
   "source": [
    "#### for old revenue"
   ]
  },
  {
   "cell_type": "code",
   "execution_count": 136,
   "id": "c9593102",
   "metadata": {},
   "outputs": [],
   "source": [
    "# for old customer list \n",
    "x['dif_by_previous_list'] =np.nan\n",
    "for i in range(1,12):\n",
    "    x['dif_by_previous_list'][i] =  (x['set'][i].difference(x['set'][i-1]))"
   ]
  },
  {
   "cell_type": "code",
   "execution_count": 137,
   "id": "3845d051",
   "metadata": {},
   "outputs": [],
   "source": [
    "x['old_cust_list'] = np.nan\n",
    "for i in range(1,12):\n",
    "    x['old_cust_list'][i] = x['set'][i].difference(x['dif_by_previous_list'][i])"
   ]
  },
  {
   "cell_type": "code",
   "execution_count": 138,
   "id": "272fa0b1",
   "metadata": {},
   "outputs": [],
   "source": [
    "p = []\n",
    "for i in range(12):\n",
    "    if isinstance(x['old_cust_list'][i], float) and np.isnan(x['old_cust_list'][i]):\n",
    "        p.append(0)\n",
    "    else:\n",
    "        p.append(df[df['CustomerID'].isin(x['old_cust_list'][i])]['Invoice'].sum())\n"
   ]
  },
  {
   "cell_type": "code",
   "execution_count": 139,
   "id": "d2a717d0",
   "metadata": {},
   "outputs": [
    {
     "data": {
      "text/html": [
       "<div>\n",
       "<style scoped>\n",
       "    .dataframe tbody tr th:only-of-type {\n",
       "        vertical-align: middle;\n",
       "    }\n",
       "\n",
       "    .dataframe tbody tr th {\n",
       "        vertical-align: top;\n",
       "    }\n",
       "\n",
       "    .dataframe thead th {\n",
       "        text-align: right;\n",
       "    }\n",
       "</style>\n",
       "<table border=\"1\" class=\"dataframe\">\n",
       "  <thead>\n",
       "    <tr style=\"text-align: right;\">\n",
       "      <th></th>\n",
       "      <th>0</th>\n",
       "    </tr>\n",
       "  </thead>\n",
       "  <tbody>\n",
       "    <tr>\n",
       "      <th>0</th>\n",
       "      <td>0.00000</td>\n",
       "    </tr>\n",
       "    <tr>\n",
       "      <th>1</th>\n",
       "      <td>414708.98147</td>\n",
       "    </tr>\n",
       "    <tr>\n",
       "      <th>2</th>\n",
       "      <td>350898.75579</td>\n",
       "    </tr>\n",
       "    <tr>\n",
       "      <th>3</th>\n",
       "      <td>363617.60017</td>\n",
       "    </tr>\n",
       "    <tr>\n",
       "      <th>4</th>\n",
       "      <td>384885.23657</td>\n",
       "    </tr>\n",
       "    <tr>\n",
       "      <th>5</th>\n",
       "      <td>566006.92218</td>\n",
       "    </tr>\n",
       "    <tr>\n",
       "      <th>6</th>\n",
       "      <td>732169.73982</td>\n",
       "    </tr>\n",
       "    <tr>\n",
       "      <th>7</th>\n",
       "      <td>768177.44589</td>\n",
       "    </tr>\n",
       "    <tr>\n",
       "      <th>8</th>\n",
       "      <td>539895.58825</td>\n",
       "    </tr>\n",
       "    <tr>\n",
       "      <th>9</th>\n",
       "      <td>517487.15979</td>\n",
       "    </tr>\n",
       "    <tr>\n",
       "      <th>10</th>\n",
       "      <td>402110.86320</td>\n",
       "    </tr>\n",
       "    <tr>\n",
       "      <th>11</th>\n",
       "      <td>364131.75545</td>\n",
       "    </tr>\n",
       "  </tbody>\n",
       "</table>\n",
       "</div>"
      ],
      "text/plain": [
       "               0\n",
       "0        0.00000\n",
       "1   414708.98147\n",
       "2   350898.75579\n",
       "3   363617.60017\n",
       "4   384885.23657\n",
       "5   566006.92218\n",
       "6   732169.73982\n",
       "7   768177.44589\n",
       "8   539895.58825\n",
       "9   517487.15979\n",
       "10  402110.86320\n",
       "11  364131.75545"
      ]
     },
     "execution_count": 139,
     "metadata": {},
     "output_type": "execute_result"
    }
   ],
   "source": [
    "p = pd.DataFrame(p)\n",
    "p"
   ]
  },
  {
   "cell_type": "code",
   "execution_count": 140,
   "id": "fe14b96a",
   "metadata": {},
   "outputs": [
    {
     "data": {
      "image/png": "[encoded data removed]",
      "text/plain": [
       "<Figure size 640x480 with 1 Axes>"
      ]
     },
     "metadata": {},
     "output_type": "display_data"
    }
   ],
   "source": [
    "sns.barplot(x=p.index , y= p[0])\n",
    "plt.title('Old customer revenue monthly',fontsize = 16)\n",
    "plt.xlabel('month')\n",
    "plt.ylabel('revenue')\n",
    "plt.show()"
   ]
  },
  {
   "cell_type": "markdown",
   "id": "95f9c7d4",
   "metadata": {},
   "source": [
    "#### for new revenew"
   ]
  },
  {
   "cell_type": "code",
   "execution_count": 141,
   "id": "00d4f315",
   "metadata": {},
   "outputs": [],
   "source": [
    "# new customer list\n",
    "x['new_cust_list'] = np.nan\n",
    "for i in range(12):\n",
    "    x['new_cust_list'][i] = (x['set'].iloc[0+i].difference(*x['set'].iloc[:0+i]))"
   ]
  },
  {
   "cell_type": "code",
   "execution_count": 142,
   "id": "0859ca38",
   "metadata": {},
   "outputs": [],
   "source": [
    "unique_new_cut_list = set()\n",
    "\n",
    "for i in range(12):\n",
    "    if pd.notna(x['new_cust_list'][i]):\n",
    "        unique_new_cut_list.update(x['new_cust_list'][i])"
   ]
  },
  {
   "cell_type": "code",
   "execution_count": 143,
   "id": "42d94ca1",
   "metadata": {},
   "outputs": [],
   "source": [
    "q = []\n",
    "for i in range(12):\n",
    "    q.append(df[df['CustomerID'].isin(x['new_cust_list'][i])]['Invoice'].sum())"
   ]
  },
  {
   "cell_type": "code",
   "execution_count": 144,
   "id": "bbfdb70d",
   "metadata": {},
   "outputs": [
    {
     "data": {
      "text/html": [
       "<div>\n",
       "<style scoped>\n",
       "    .dataframe tbody tr th:only-of-type {\n",
       "        vertical-align: middle;\n",
       "    }\n",
       "\n",
       "    .dataframe tbody tr th {\n",
       "        vertical-align: top;\n",
       "    }\n",
       "\n",
       "    .dataframe thead th {\n",
       "        text-align: right;\n",
       "    }\n",
       "</style>\n",
       "<table border=\"1\" class=\"dataframe\">\n",
       "  <thead>\n",
       "    <tr style=\"text-align: right;\">\n",
       "      <th></th>\n",
       "      <th>0</th>\n",
       "    </tr>\n",
       "  </thead>\n",
       "  <tbody>\n",
       "    <tr>\n",
       "      <th>0</th>\n",
       "      <td>1.227511e+06</td>\n",
       "    </tr>\n",
       "    <tr>\n",
       "      <th>1</th>\n",
       "      <td>6.360731e+05</td>\n",
       "    </tr>\n",
       "    <tr>\n",
       "      <th>2</th>\n",
       "      <td>7.693070e+05</td>\n",
       "    </tr>\n",
       "    <tr>\n",
       "      <th>3</th>\n",
       "      <td>5.234645e+05</td>\n",
       "    </tr>\n",
       "    <tr>\n",
       "      <th>4</th>\n",
       "      <td>3.863069e+05</td>\n",
       "    </tr>\n",
       "    <tr>\n",
       "      <th>5</th>\n",
       "      <td>3.326816e+05</td>\n",
       "    </tr>\n",
       "    <tr>\n",
       "      <th>6</th>\n",
       "      <td>2.778105e+05</td>\n",
       "    </tr>\n",
       "    <tr>\n",
       "      <th>7</th>\n",
       "      <td>3.021801e+05</td>\n",
       "    </tr>\n",
       "    <tr>\n",
       "      <th>8</th>\n",
       "      <td>1.681078e+05</td>\n",
       "    </tr>\n",
       "    <tr>\n",
       "      <th>9</th>\n",
       "      <td>2.709502e+05</td>\n",
       "    </tr>\n",
       "    <tr>\n",
       "      <th>10</th>\n",
       "      <td>2.395509e+05</td>\n",
       "    </tr>\n",
       "    <tr>\n",
       "      <th>11</th>\n",
       "      <td>2.634149e+05</td>\n",
       "    </tr>\n",
       "  </tbody>\n",
       "</table>\n",
       "</div>"
      ],
      "text/plain": [
       "               0\n",
       "0   1.227511e+06\n",
       "1   6.360731e+05\n",
       "2   7.693070e+05\n",
       "3   5.234645e+05\n",
       "4   3.863069e+05\n",
       "5   3.326816e+05\n",
       "6   2.778105e+05\n",
       "7   3.021801e+05\n",
       "8   1.681078e+05\n",
       "9   2.709502e+05\n",
       "10  2.395509e+05\n",
       "11  2.634149e+05"
      ]
     },
     "execution_count": 144,
     "metadata": {},
     "output_type": "execute_result"
    }
   ],
   "source": [
    "q = pd.DataFrame(q)\n",
    "q"
   ]
  },
  {
   "cell_type": "code",
   "execution_count": 145,
   "id": "3f46e6f9",
   "metadata": {},
   "outputs": [
    {
     "data": {
      "image/png": "[encoded data removed]",
      "text/plain": [
       "<Figure size 640x480 with 1 Axes>"
      ]
     },
     "metadata": {},
     "output_type": "display_data"
    }
   ],
   "source": [
    "plt.plot(q[0])\n",
    "sns.barplot(x=p.index , y= q[0],color='pink')\n",
    "plt.title('New customer revenue monthly',fontsize = 16)\n",
    "plt.xlabel('month')\n",
    "plt.ylabel('revenue')\n",
    "plt.show()"
   ]
  },
  {
   "cell_type": "code",
   "execution_count": 146,
   "id": "c62f5a86",
   "metadata": {},
   "outputs": [],
   "source": [
    "p = p.rename(columns={0: 'a'})\n",
    "q = q.rename(columns={0: 'b'})"
   ]
  },
  {
   "cell_type": "code",
   "execution_count": 147,
   "id": "29dbe265",
   "metadata": {},
   "outputs": [],
   "source": [
    "compare = pd.concat([p,q],axis=1)"
   ]
  },
  {
   "cell_type": "code",
   "execution_count": 148,
   "id": "3cac0a41",
   "metadata": {},
   "outputs": [],
   "source": [
    "l = ['jan','feb','mar','apr','may','june','july','aug','sept','oct','nov','dec']"
   ]
  },
  {
   "cell_type": "code",
   "execution_count": 149,
   "id": "d2453e5d",
   "metadata": {},
   "outputs": [
    {
     "data": {
      "text/html": [
       "<div>\n",
       "<style scoped>\n",
       "    .dataframe tbody tr th:only-of-type {\n",
       "        vertical-align: middle;\n",
       "    }\n",
       "\n",
       "    .dataframe tbody tr th {\n",
       "        vertical-align: top;\n",
       "    }\n",
       "\n",
       "    .dataframe thead th {\n",
       "        text-align: right;\n",
       "    }\n",
       "</style>\n",
       "<table border=\"1\" class=\"dataframe\">\n",
       "  <thead>\n",
       "    <tr style=\"text-align: right;\">\n",
       "      <th></th>\n",
       "      <th>a</th>\n",
       "      <th>b</th>\n",
       "      <th>month</th>\n",
       "    </tr>\n",
       "  </thead>\n",
       "  <tbody>\n",
       "    <tr>\n",
       "      <th>0</th>\n",
       "      <td>0.00000</td>\n",
       "      <td>1.227511e+06</td>\n",
       "      <td>jan</td>\n",
       "    </tr>\n",
       "    <tr>\n",
       "      <th>1</th>\n",
       "      <td>414708.98147</td>\n",
       "      <td>6.360731e+05</td>\n",
       "      <td>feb</td>\n",
       "    </tr>\n",
       "    <tr>\n",
       "      <th>2</th>\n",
       "      <td>350898.75579</td>\n",
       "      <td>7.693070e+05</td>\n",
       "      <td>mar</td>\n",
       "    </tr>\n",
       "    <tr>\n",
       "      <th>3</th>\n",
       "      <td>363617.60017</td>\n",
       "      <td>5.234645e+05</td>\n",
       "      <td>apr</td>\n",
       "    </tr>\n",
       "    <tr>\n",
       "      <th>4</th>\n",
       "      <td>384885.23657</td>\n",
       "      <td>3.863069e+05</td>\n",
       "      <td>may</td>\n",
       "    </tr>\n",
       "    <tr>\n",
       "      <th>5</th>\n",
       "      <td>566006.92218</td>\n",
       "      <td>3.326816e+05</td>\n",
       "      <td>june</td>\n",
       "    </tr>\n",
       "    <tr>\n",
       "      <th>6</th>\n",
       "      <td>732169.73982</td>\n",
       "      <td>2.778105e+05</td>\n",
       "      <td>july</td>\n",
       "    </tr>\n",
       "    <tr>\n",
       "      <th>7</th>\n",
       "      <td>768177.44589</td>\n",
       "      <td>3.021801e+05</td>\n",
       "      <td>aug</td>\n",
       "    </tr>\n",
       "    <tr>\n",
       "      <th>8</th>\n",
       "      <td>539895.58825</td>\n",
       "      <td>1.681078e+05</td>\n",
       "      <td>sept</td>\n",
       "    </tr>\n",
       "    <tr>\n",
       "      <th>9</th>\n",
       "      <td>517487.15979</td>\n",
       "      <td>2.709502e+05</td>\n",
       "      <td>oct</td>\n",
       "    </tr>\n",
       "    <tr>\n",
       "      <th>10</th>\n",
       "      <td>402110.86320</td>\n",
       "      <td>2.395509e+05</td>\n",
       "      <td>nov</td>\n",
       "    </tr>\n",
       "    <tr>\n",
       "      <th>11</th>\n",
       "      <td>364131.75545</td>\n",
       "      <td>2.634149e+05</td>\n",
       "      <td>dec</td>\n",
       "    </tr>\n",
       "  </tbody>\n",
       "</table>\n",
       "</div>"
      ],
      "text/plain": [
       "               a             b month\n",
       "0        0.00000  1.227511e+06   jan\n",
       "1   414708.98147  6.360731e+05   feb\n",
       "2   350898.75579  7.693070e+05   mar\n",
       "3   363617.60017  5.234645e+05   apr\n",
       "4   384885.23657  3.863069e+05   may\n",
       "5   566006.92218  3.326816e+05  june\n",
       "6   732169.73982  2.778105e+05  july\n",
       "7   768177.44589  3.021801e+05   aug\n",
       "8   539895.58825  1.681078e+05  sept\n",
       "9   517487.15979  2.709502e+05   oct\n",
       "10  402110.86320  2.395509e+05   nov\n",
       "11  364131.75545  2.634149e+05   dec"
      ]
     },
     "execution_count": 149,
     "metadata": {},
     "output_type": "execute_result"
    }
   ],
   "source": [
    "compare['month'] = l\n",
    "compare"
   ]
  },
  {
   "cell_type": "code",
   "execution_count": 150,
   "id": "ab990323",
   "metadata": {},
   "outputs": [],
   "source": [
    "x1 =[ i-0.35/2 for i in range(0,12)]\n",
    "x2 =[ i+0.35/2 for i in range(0,12)]"
   ]
  },
  {
   "cell_type": "code",
   "execution_count": 151,
   "id": "fc1ab4bf",
   "metadata": {},
   "outputs": [
    {
     "data": {
      "text/plain": [
       "<matplotlib.legend.Legend at 0x780d4abbb0>"
      ]
     },
     "execution_count": 151,
     "metadata": {},
     "output_type": "execute_result"
    },
    {
     "data": {
      "image/png": "[encoded data removed]",
      "text/plain": [
       "<Figure size 640x480 with 1 Axes>"
      ]
     },
     "metadata": {},
     "output_type": "display_data"
    }
   ],
   "source": [
    "plt.plot(compare['a'])\n",
    "plt.bar(x1 ,compare['a'],width=0.35,label = 'old', color ='blue',alpha=0.8,tick_label=compare['month'])\n",
    "plt.plot(compare['b'])\n",
    "plt.bar(x2, compare['b'],width=0.35,label = 'new',color ='pink')\n",
    "plt.title(' Comparision of new customer and old customer revenue  ', fontsize = 16)\n",
    "plt.legend()"
   ]
  },
  {
   "cell_type": "markdown",
   "id": "3a71ae15",
   "metadata": {},
   "source": [
    "#### 2.4"
   ]
  },
  {
   "cell_type": "code",
   "execution_count": 152,
   "id": "f95d5699",
   "metadata": {},
   "outputs": [
    {
     "data": {
      "text/html": [
       "<div>\n",
       "<style scoped>\n",
       "    .dataframe tbody tr th:only-of-type {\n",
       "        vertical-align: middle;\n",
       "    }\n",
       "\n",
       "    .dataframe tbody tr th {\n",
       "        vertical-align: top;\n",
       "    }\n",
       "\n",
       "    .dataframe thead th {\n",
       "        text-align: right;\n",
       "    }\n",
       "</style>\n",
       "<table border=\"1\" class=\"dataframe\">\n",
       "  <thead>\n",
       "    <tr style=\"text-align: right;\">\n",
       "      <th></th>\n",
       "      <th>Coupon_Status</th>\n",
       "      <th>Invoice</th>\n",
       "    </tr>\n",
       "  </thead>\n",
       "  <tbody>\n",
       "    <tr>\n",
       "      <th>0</th>\n",
       "      <td>Clicked</td>\n",
       "      <td>2.925734e+06</td>\n",
       "    </tr>\n",
       "    <tr>\n",
       "      <th>1</th>\n",
       "      <td>Not Used</td>\n",
       "      <td>8.973176e+05</td>\n",
       "    </tr>\n",
       "    <tr>\n",
       "      <th>2</th>\n",
       "      <td>Used</td>\n",
       "      <td>1.574307e+06</td>\n",
       "    </tr>\n",
       "  </tbody>\n",
       "</table>\n",
       "</div>"
      ],
      "text/plain": [
       "  Coupon_Status       Invoice\n",
       "0       Clicked  2.925734e+06\n",
       "1      Not Used  8.973176e+05\n",
       "2          Used  1.574307e+06"
      ]
     },
     "execution_count": 152,
     "metadata": {},
     "output_type": "execute_result"
    }
   ],
   "source": [
    "df[['Invoice','Coupon_Status','Discount_pct']].groupby('Coupon_Status')['Invoice'].sum().reset_index()"
   ]
  },
  {
   "cell_type": "code",
   "execution_count": 153,
   "id": "09b8e906",
   "metadata": {},
   "outputs": [
    {
     "data": {
      "text/html": [
       "<div>\n",
       "<style scoped>\n",
       "    .dataframe tbody tr th:only-of-type {\n",
       "        vertical-align: middle;\n",
       "    }\n",
       "\n",
       "    .dataframe tbody tr th {\n",
       "        vertical-align: top;\n",
       "    }\n",
       "\n",
       "    .dataframe thead th {\n",
       "        text-align: right;\n",
       "    }\n",
       "</style>\n",
       "<table border=\"1\" class=\"dataframe\">\n",
       "  <thead>\n",
       "    <tr style=\"text-align: right;\">\n",
       "      <th></th>\n",
       "      <th>Discount_pct</th>\n",
       "      <th>Invoice</th>\n",
       "    </tr>\n",
       "  </thead>\n",
       "  <tbody>\n",
       "    <tr>\n",
       "      <th>0</th>\n",
       "      <td>0.0</td>\n",
       "      <td>3.694934e+04</td>\n",
       "    </tr>\n",
       "    <tr>\n",
       "      <th>1</th>\n",
       "      <td>10.0</td>\n",
       "      <td>1.888318e+06</td>\n",
       "    </tr>\n",
       "    <tr>\n",
       "      <th>2</th>\n",
       "      <td>20.0</td>\n",
       "      <td>1.752978e+06</td>\n",
       "    </tr>\n",
       "    <tr>\n",
       "      <th>3</th>\n",
       "      <td>30.0</td>\n",
       "      <td>1.719114e+06</td>\n",
       "    </tr>\n",
       "  </tbody>\n",
       "</table>\n",
       "</div>"
      ],
      "text/plain": [
       "   Discount_pct       Invoice\n",
       "0           0.0  3.694934e+04\n",
       "1          10.0  1.888318e+06\n",
       "2          20.0  1.752978e+06\n",
       "3          30.0  1.719114e+06"
      ]
     },
     "execution_count": 153,
     "metadata": {},
     "output_type": "execute_result"
    }
   ],
   "source": [
    "df[['Invoice','Coupon_Status','Discount_pct']].groupby('Discount_pct')['Invoice'].sum().reset_index()"
   ]
  },
  {
   "cell_type": "markdown",
   "id": "a5a0b086",
   "metadata": {},
   "source": [
    "#### 2.5"
   ]
  },
  {
   "cell_type": "code",
   "execution_count": 154,
   "id": "5862b43b",
   "metadata": {},
   "outputs": [],
   "source": [
    "# Analyse KPI’s like Revenue, number of orders, average order value, number of\n",
    "# customers (existing/new), quantity, by category, by month, by week, by day etc…"
   ]
  },
  {
   "cell_type": "code",
   "execution_count": 155,
   "id": "8c6a0238",
   "metadata": {},
   "outputs": [
    {
     "data": {
      "text/plain": [
       "Index(['CustomerID', 'Gender', 'Location', 'Tenure_Months', 'Transaction_ID',\n",
       "       'Transaction_Date', 'Product_SKU', 'Product_Description',\n",
       "       'Product_Category', 'Quantity', 'Avg_Price', 'Delivery_Charges',\n",
       "       'Coupon_Status', 'Month', 'Coupon_Code', 'Discount_pct', 'GST', 'Date',\n",
       "       'Offline_Spend', 'Online_Spend', 'Invoice'],\n",
       "      dtype='object')"
      ]
     },
     "execution_count": 155,
     "metadata": {},
     "output_type": "execute_result"
    }
   ],
   "source": [
    "df.columns"
   ]
  },
  {
   "cell_type": "code",
   "execution_count": 156,
   "id": "92ea8172",
   "metadata": {},
   "outputs": [],
   "source": [
    "# revenue by number of customers (existing/new) --- alreday done "
   ]
  },
  {
   "cell_type": "code",
   "execution_count": 157,
   "id": "a9efef3b",
   "metadata": {},
   "outputs": [],
   "source": [
    "df['weekday'] = df['Transaction_Date'].dt.weekday"
   ]
  },
  {
   "cell_type": "code",
   "execution_count": 158,
   "id": "1dd6e7dd",
   "metadata": {},
   "outputs": [
    {
     "data": {
      "text/plain": [
       "Month  weekday\n",
       "1      0           25158.41259\n",
       "       1           51112.55916\n",
       "       2           92969.76688\n",
       "       3          109360.36863\n",
       "       4           74108.67188\n",
       "                      ...     \n",
       "12     2          100152.42999\n",
       "       3           80019.89224\n",
       "       4           89351.48125\n",
       "       5           76170.11755\n",
       "       6           97131.91134\n",
       "Name: Invoice, Length: 84, dtype: float64"
      ]
     },
     "execution_count": 158,
     "metadata": {},
     "output_type": "execute_result"
    }
   ],
   "source": [
    "df.groupby('Product_Category')['Invoice'].sum()\n",
    "df.groupby('Product_Category')['Quantity'].count()\n",
    "df.groupby(['Month','weekday'])['Invoice'].sum()"
   ]
  },
  {
   "cell_type": "markdown",
   "id": "76f568b9",
   "metadata": {},
   "source": [
    "#### 2.6"
   ]
  },
  {
   "cell_type": "code",
   "execution_count": 159,
   "id": "0343fa71",
   "metadata": {},
   "outputs": [],
   "source": [
    "#  Understand the trends/seasonality of sales by category, location, month etc…"
   ]
  },
  {
   "cell_type": "code",
   "execution_count": 160,
   "id": "2e5c5b3b",
   "metadata": {},
   "outputs": [],
   "source": [
    "# from statsmodels.tsa.seasonal import seasonal_decompose\n",
    "\n",
    "# # Assuming df is your DataFrame with 'Month' and 'Invoice' columns\n",
    "\n",
    "# # Seasonal Decomposition\n",
    "# result = seasonal_decompose(df['Invoice'], model='additive', period=12)  # Assuming monthly data with a yearly seasonality\n",
    "# seasonal_component = result.seasonal\n",
    "# trend_component = result.trend\n"
   ]
  },
  {
   "cell_type": "code",
   "execution_count": 161,
   "id": "abfbccdd",
   "metadata": {},
   "outputs": [],
   "source": [
    "a = df.groupby(['Location','Month'])['Invoice'].sum().reset_index()"
   ]
  },
  {
   "cell_type": "code",
   "execution_count": 162,
   "id": "4c2253f0",
   "metadata": {},
   "outputs": [],
   "source": [
    "unique_name = a['Location'].unique()"
   ]
  },
  {
   "cell_type": "code",
   "execution_count": 163,
   "id": "f73a1436",
   "metadata": {},
   "outputs": [
    {
     "data": {
      "image/png": "[encoded data removed]",
      "text/plain": [
       "<Figure size 640x480 with 1 Axes>"
      ]
     },
     "metadata": {},
     "output_type": "display_data"
    }
   ],
   "source": [
    "for i in range(5):\n",
    "    data = a[a['Location']==unique_name[i]]\n",
    "    plt.plot(data['Month'],data['Invoice'],label=unique_name[i])\n",
    "    plt.legend()"
   ]
  },
  {
   "cell_type": "code",
   "execution_count": 164,
   "id": "b89b0278",
   "metadata": {},
   "outputs": [],
   "source": [
    "a = df.groupby(['Product_Category','Month'])['Invoice'].sum().reset_index()"
   ]
  },
  {
   "cell_type": "code",
   "execution_count": 165,
   "id": "266c9849",
   "metadata": {},
   "outputs": [],
   "source": [
    "unique_name = ['Nest-USA', 'Apparel', 'Nest', 'Office', 'Drinkware']"
   ]
  },
  {
   "cell_type": "code",
   "execution_count": 166,
   "id": "90636287",
   "metadata": {},
   "outputs": [
    {
     "data": {
      "image/png": "[encoded data removed]",
      "text/plain": [
       "<Figure size 640x480 with 1 Axes>"
      ]
     },
     "metadata": {},
     "output_type": "display_data"
    }
   ],
   "source": [
    "for i in range(5):\n",
    "    data = a[a['Product_Category']==unique_name[i]]\n",
    "    plt.plot(data['Month'],data['Invoice'],label=unique_name[i])\n",
    "    plt.legend()\n",
    "    plt.xlabel('Month')\n",
    "    plt.ylabel('Sum')\n",
    "    plt.title('Product sales monthly ')"
   ]
  },
  {
   "cell_type": "markdown",
   "id": "aeb7ae00",
   "metadata": {},
   "source": [
    "#### 2.7"
   ]
  },
  {
   "cell_type": "code",
   "execution_count": 167,
   "id": "de74fe39",
   "metadata": {},
   "outputs": [],
   "source": [
    "#  How number order varies and sales with different days?"
   ]
  },
  {
   "cell_type": "code",
   "execution_count": 168,
   "id": "d545f02a",
   "metadata": {},
   "outputs": [
    {
     "data": {
      "text/html": [
       "<div>\n",
       "<style scoped>\n",
       "    .dataframe tbody tr th:only-of-type {\n",
       "        vertical-align: middle;\n",
       "    }\n",
       "\n",
       "    .dataframe tbody tr th {\n",
       "        vertical-align: top;\n",
       "    }\n",
       "\n",
       "    .dataframe thead th {\n",
       "        text-align: right;\n",
       "    }\n",
       "</style>\n",
       "<table border=\"1\" class=\"dataframe\">\n",
       "  <thead>\n",
       "    <tr style=\"text-align: right;\">\n",
       "      <th></th>\n",
       "      <th>Month</th>\n",
       "      <th>Product_Category</th>\n",
       "      <th>Invoice</th>\n",
       "    </tr>\n",
       "  </thead>\n",
       "  <tbody>\n",
       "    <tr>\n",
       "      <th>0</th>\n",
       "      <td>1</td>\n",
       "      <td>Accessories</td>\n",
       "      <td>63.22700</td>\n",
       "    </tr>\n",
       "    <tr>\n",
       "      <th>1</th>\n",
       "      <td>1</td>\n",
       "      <td>Android</td>\n",
       "      <td>103.12760</td>\n",
       "    </tr>\n",
       "    <tr>\n",
       "      <th>2</th>\n",
       "      <td>1</td>\n",
       "      <td>Apparel</td>\n",
       "      <td>59198.56210</td>\n",
       "    </tr>\n",
       "    <tr>\n",
       "      <th>3</th>\n",
       "      <td>1</td>\n",
       "      <td>Backpacks</td>\n",
       "      <td>336.02900</td>\n",
       "    </tr>\n",
       "    <tr>\n",
       "      <th>4</th>\n",
       "      <td>1</td>\n",
       "      <td>Bags</td>\n",
       "      <td>15655.28456</td>\n",
       "    </tr>\n",
       "    <tr>\n",
       "      <th>...</th>\n",
       "      <td>...</td>\n",
       "      <td>...</td>\n",
       "      <td>...</td>\n",
       "    </tr>\n",
       "    <tr>\n",
       "      <th>202</th>\n",
       "      <td>12</td>\n",
       "      <td>Nest-Canada</td>\n",
       "      <td>5411.54060</td>\n",
       "    </tr>\n",
       "    <tr>\n",
       "      <th>203</th>\n",
       "      <td>12</td>\n",
       "      <td>Nest-USA</td>\n",
       "      <td>290133.51300</td>\n",
       "    </tr>\n",
       "    <tr>\n",
       "      <th>204</th>\n",
       "      <td>12</td>\n",
       "      <td>Notebooks &amp; Journals</td>\n",
       "      <td>867.79000</td>\n",
       "    </tr>\n",
       "    <tr>\n",
       "      <th>205</th>\n",
       "      <td>12</td>\n",
       "      <td>Office</td>\n",
       "      <td>21365.59620</td>\n",
       "    </tr>\n",
       "    <tr>\n",
       "      <th>206</th>\n",
       "      <td>12</td>\n",
       "      <td>Waze</td>\n",
       "      <td>1120.13498</td>\n",
       "    </tr>\n",
       "  </tbody>\n",
       "</table>\n",
       "<p>207 rows × 3 columns</p>\n",
       "</div>"
      ],
      "text/plain": [
       "     Month      Product_Category       Invoice\n",
       "0        1           Accessories      63.22700\n",
       "1        1               Android     103.12760\n",
       "2        1               Apparel   59198.56210\n",
       "3        1             Backpacks     336.02900\n",
       "4        1                  Bags   15655.28456\n",
       "..     ...                   ...           ...\n",
       "202     12           Nest-Canada    5411.54060\n",
       "203     12              Nest-USA  290133.51300\n",
       "204     12  Notebooks & Journals     867.79000\n",
       "205     12                Office   21365.59620\n",
       "206     12                  Waze    1120.13498\n",
       "\n",
       "[207 rows x 3 columns]"
      ]
     },
     "execution_count": 168,
     "metadata": {},
     "output_type": "execute_result"
    }
   ],
   "source": [
    "a = df.groupby(['Month','Product_Category'])['Invoice'].sum().reset_index()\n",
    "a"
   ]
  },
  {
   "cell_type": "code",
   "execution_count": 169,
   "id": "3fce6ef4",
   "metadata": {},
   "outputs": [
    {
     "data": {
      "text/html": [
       "<div>\n",
       "<style scoped>\n",
       "    .dataframe tbody tr th:only-of-type {\n",
       "        vertical-align: middle;\n",
       "    }\n",
       "\n",
       "    .dataframe tbody tr th {\n",
       "        vertical-align: top;\n",
       "    }\n",
       "\n",
       "    .dataframe thead th {\n",
       "        text-align: right;\n",
       "    }\n",
       "</style>\n",
       "<table border=\"1\" class=\"dataframe\">\n",
       "  <thead>\n",
       "    <tr style=\"text-align: right;\">\n",
       "      <th></th>\n",
       "      <th>Month</th>\n",
       "      <th>Product_Category</th>\n",
       "      <th>Invoice</th>\n",
       "    </tr>\n",
       "  </thead>\n",
       "  <tbody>\n",
       "    <tr>\n",
       "      <th>15</th>\n",
       "      <td>1</td>\n",
       "      <td>Nest-USA</td>\n",
       "      <td>313029.0931</td>\n",
       "    </tr>\n",
       "    <tr>\n",
       "      <th>33</th>\n",
       "      <td>2</td>\n",
       "      <td>Nest-USA</td>\n",
       "      <td>209596.7690</td>\n",
       "    </tr>\n",
       "    <tr>\n",
       "      <th>52</th>\n",
       "      <td>3</td>\n",
       "      <td>Nest-USA</td>\n",
       "      <td>204728.6500</td>\n",
       "    </tr>\n",
       "    <tr>\n",
       "      <th>71</th>\n",
       "      <td>4</td>\n",
       "      <td>Nest-USA</td>\n",
       "      <td>200699.5500</td>\n",
       "    </tr>\n",
       "    <tr>\n",
       "      <th>90</th>\n",
       "      <td>5</td>\n",
       "      <td>Nest-USA</td>\n",
       "      <td>185375.2200</td>\n",
       "    </tr>\n",
       "    <tr>\n",
       "      <th>108</th>\n",
       "      <td>6</td>\n",
       "      <td>Nest-USA</td>\n",
       "      <td>201367.4900</td>\n",
       "    </tr>\n",
       "    <tr>\n",
       "      <th>126</th>\n",
       "      <td>7</td>\n",
       "      <td>Nest-USA</td>\n",
       "      <td>230154.8700</td>\n",
       "    </tr>\n",
       "    <tr>\n",
       "      <th>145</th>\n",
       "      <td>8</td>\n",
       "      <td>Nest-USA</td>\n",
       "      <td>208623.1900</td>\n",
       "    </tr>\n",
       "    <tr>\n",
       "      <th>162</th>\n",
       "      <td>9</td>\n",
       "      <td>Nest-USA</td>\n",
       "      <td>172747.8700</td>\n",
       "    </tr>\n",
       "    <tr>\n",
       "      <th>178</th>\n",
       "      <td>10</td>\n",
       "      <td>Nest-USA</td>\n",
       "      <td>226107.0300</td>\n",
       "    </tr>\n",
       "    <tr>\n",
       "      <th>191</th>\n",
       "      <td>11</td>\n",
       "      <td>Nest-USA</td>\n",
       "      <td>279082.5100</td>\n",
       "    </tr>\n",
       "    <tr>\n",
       "      <th>203</th>\n",
       "      <td>12</td>\n",
       "      <td>Nest-USA</td>\n",
       "      <td>290133.5130</td>\n",
       "    </tr>\n",
       "  </tbody>\n",
       "</table>\n",
       "</div>"
      ],
      "text/plain": [
       "     Month Product_Category      Invoice\n",
       "15       1         Nest-USA  313029.0931\n",
       "33       2         Nest-USA  209596.7690\n",
       "52       3         Nest-USA  204728.6500\n",
       "71       4         Nest-USA  200699.5500\n",
       "90       5         Nest-USA  185375.2200\n",
       "108      6         Nest-USA  201367.4900\n",
       "126      7         Nest-USA  230154.8700\n",
       "145      8         Nest-USA  208623.1900\n",
       "162      9         Nest-USA  172747.8700\n",
       "178     10         Nest-USA  226107.0300\n",
       "191     11         Nest-USA  279082.5100\n",
       "203     12         Nest-USA  290133.5130"
      ]
     },
     "execution_count": 169,
     "metadata": {},
     "output_type": "execute_result"
    }
   ],
   "source": [
    "a.loc[a.groupby('Month')['Invoice'].idxmax()]"
   ]
  },
  {
   "cell_type": "code",
   "execution_count": 170,
   "id": "a512b222",
   "metadata": {},
   "outputs": [
    {
     "data": {
      "text/plain": [
       "[<matplotlib.lines.Line2D at 0x78033120e0>]"
      ]
     },
     "execution_count": 170,
     "metadata": {},
     "output_type": "execute_result"
    },
    {
     "data": {
      "image/png": "[encoded data removed]",
      "text/plain": [
       "<Figure size 640x480 with 1 Axes>"
      ]
     },
     "metadata": {},
     "output_type": "display_data"
    }
   ],
   "source": [
    "plt.plot(df.groupby('Month')['Transaction_ID'].count())"
   ]
  },
  {
   "cell_type": "markdown",
   "id": "9b18c7d2",
   "metadata": {},
   "source": [
    "#### 2.8"
   ]
  },
  {
   "cell_type": "code",
   "execution_count": 171,
   "id": "a7058240",
   "metadata": {},
   "outputs": [],
   "source": [
    "# Calculate the Revenue, Marketing spend, percentage of marketing spend out of\n",
    "# revenue, Tax, percentage of delivery charges by month."
   ]
  },
  {
   "cell_type": "code",
   "execution_count": 172,
   "id": "856af083",
   "metadata": {},
   "outputs": [],
   "source": [
    "df['total_marketing_spend'] = df['Offline_Spend']+df['Online_Spend']"
   ]
  },
  {
   "cell_type": "code",
   "execution_count": 173,
   "id": "656e06c5",
   "metadata": {},
   "outputs": [
    {
     "data": {
      "text/plain": [
       "Month\n",
       "1     40.585223\n",
       "2     42.225849\n",
       "3     42.041317\n",
       "4     45.352850\n",
       "5     47.936847\n",
       "6     51.593891\n",
       "7     45.629386\n",
       "8     59.659353\n",
       "9     48.567760\n",
       "10    42.715612\n",
       "11    38.511787\n",
       "12    52.083729\n",
       "dtype: float64"
      ]
     },
     "execution_count": 173,
     "metadata": {},
     "output_type": "execute_result"
    }
   ],
   "source": [
    "df.groupby('Month')['total_marketing_spend'].sum()/df.groupby('Month')['Invoice'].sum()  "
   ]
  },
  {
   "cell_type": "code",
   "execution_count": 174,
   "id": "3fe7e607",
   "metadata": {},
   "outputs": [
    {
     "data": {
      "text/plain": [
       "Month\n",
       "1     10.642937\n",
       "2      8.841807\n",
       "3     10.922765\n",
       "4      7.452233\n",
       "5      7.436860\n",
       "6      6.739349\n",
       "7      8.753299\n",
       "8     10.976594\n",
       "9      7.366661\n",
       "10     8.257094\n",
       "11     5.804868\n",
       "12     6.805534\n",
       "Name: Delivery_Charges, dtype: float64"
      ]
     },
     "execution_count": 174,
     "metadata": {},
     "output_type": "execute_result"
    }
   ],
   "source": [
    "df.groupby('Month')['Delivery_Charges'].sum()/df['Delivery_Charges'].sum() * 100"
   ]
  },
  {
   "cell_type": "code",
   "execution_count": 175,
   "id": "a7dd5200",
   "metadata": {},
   "outputs": [
    {
     "data": {
      "text/plain": [
       "Month\n",
       "1     275638.384584\n",
       "2     217752.174905\n",
       "3     239913.516645\n",
       "4     297674.678043\n",
       "5     240899.639177\n",
       "6     256018.239512\n",
       "7     283420.610087\n",
       "8     390180.298500\n",
       "9     264708.548831\n",
       "10    282284.367075\n",
       "11    289982.305090\n",
       "12    398134.468311\n",
       "Name: total_marketing_spend, dtype: float64"
      ]
     },
     "execution_count": 175,
     "metadata": {},
     "output_type": "execute_result"
    }
   ],
   "source": [
    "df.groupby('Month')['total_marketing_spend'].sum()/df['GST'].sum() *100 "
   ]
  },
  {
   "cell_type": "markdown",
   "id": "4d1d4955",
   "metadata": {},
   "source": [
    "#### 2.9"
   ]
  },
  {
   "cell_type": "code",
   "execution_count": 176,
   "id": "96a5cc2b",
   "metadata": {},
   "outputs": [],
   "source": [
    "#  How marketing spend is impacting on revenue?"
   ]
  },
  {
   "cell_type": "code",
   "execution_count": 177,
   "id": "93ca9865",
   "metadata": {},
   "outputs": [
    {
     "data": {
      "text/plain": [
       "0.04226203571204476"
      ]
     },
     "execution_count": 177,
     "metadata": {},
     "output_type": "execute_result"
    }
   ],
   "source": [
    "df['Invoice'].corr(df['total_marketing_spend'])"
   ]
  },
  {
   "cell_type": "code",
   "execution_count": 84,
   "id": "bca9364a",
   "metadata": {},
   "outputs": [
    {
     "data": {
      "text/plain": [
       "<matplotlib.legend.Legend at 0xeee1019a50>"
      ]
     },
     "execution_count": 84,
     "metadata": {},
     "output_type": "execute_result"
    },
    {
     "data": {
      "image/png": "[encoded data removed]",
      "text/plain": [
       "<Figure size 640x480 with 1 Axes>"
      ]
     },
     "metadata": {},
     "output_type": "display_data"
    }
   ],
   "source": [
    "plt.plot(df.groupby('Month')['Invoice'].sum() / df['Invoice'].sum() *100 , label = 'revenue')\n",
    "plt.plot(df.groupby('Month')['total_marketing_spend'].sum() /  df['total_marketing_spend'].sum() *100 , label = 'total_marketing_spend')\n",
    "plt.legend()"
   ]
  },
  {
   "cell_type": "markdown",
   "id": "b5e02099",
   "metadata": {},
   "source": [
    "#### 2.10"
   ]
  },
  {
   "cell_type": "code",
   "execution_count": 85,
   "id": "26b643b5",
   "metadata": {},
   "outputs": [],
   "source": [
    "#  Which product was appeared in the transactions?"
   ]
  },
  {
   "cell_type": "code",
   "execution_count": 86,
   "id": "9f123048",
   "metadata": {},
   "outputs": [
    {
     "data": {
      "text/html": [
       "<div>\n",
       "<style scoped>\n",
       "    .dataframe tbody tr th:only-of-type {\n",
       "        vertical-align: middle;\n",
       "    }\n",
       "\n",
       "    .dataframe tbody tr th {\n",
       "        vertical-align: top;\n",
       "    }\n",
       "\n",
       "    .dataframe thead th {\n",
       "        text-align: right;\n",
       "    }\n",
       "</style>\n",
       "<table border=\"1\" class=\"dataframe\">\n",
       "  <thead>\n",
       "    <tr style=\"text-align: right;\">\n",
       "      <th></th>\n",
       "      <th>Transaction_ID</th>\n",
       "      <th>Product_SKU</th>\n",
       "    </tr>\n",
       "  </thead>\n",
       "  <tbody>\n",
       "    <tr>\n",
       "      <th>0</th>\n",
       "      <td>16679</td>\n",
       "      <td>GGOENEBJ079499</td>\n",
       "    </tr>\n",
       "    <tr>\n",
       "      <th>1</th>\n",
       "      <td>16680</td>\n",
       "      <td>GGOENEBJ079499</td>\n",
       "    </tr>\n",
       "    <tr>\n",
       "      <th>2</th>\n",
       "      <td>16681</td>\n",
       "      <td>GGOEGFKQ020399</td>\n",
       "    </tr>\n",
       "    <tr>\n",
       "      <th>3</th>\n",
       "      <td>16682</td>\n",
       "      <td>GGOEYAAB031816</td>\n",
       "    </tr>\n",
       "    <tr>\n",
       "      <th>4</th>\n",
       "      <td>16684</td>\n",
       "      <td>GGOENEBQ079199</td>\n",
       "    </tr>\n",
       "    <tr>\n",
       "      <th>...</th>\n",
       "      <td>...</td>\n",
       "      <td>...</td>\n",
       "    </tr>\n",
       "    <tr>\n",
       "      <th>25056</th>\n",
       "      <td>48493</td>\n",
       "      <td>GGOENEBB078899</td>\n",
       "    </tr>\n",
       "    <tr>\n",
       "      <th>25057</th>\n",
       "      <td>48494</td>\n",
       "      <td>GGOEGAEB091117</td>\n",
       "    </tr>\n",
       "    <tr>\n",
       "      <th>25058</th>\n",
       "      <td>48495</td>\n",
       "      <td>GGOENEBQ084699</td>\n",
       "    </tr>\n",
       "    <tr>\n",
       "      <th>25059</th>\n",
       "      <td>48496</td>\n",
       "      <td>GGOENEBQ079199</td>\n",
       "    </tr>\n",
       "    <tr>\n",
       "      <th>25060</th>\n",
       "      <td>48497</td>\n",
       "      <td>GGOENEBQ079099</td>\n",
       "    </tr>\n",
       "  </tbody>\n",
       "</table>\n",
       "<p>25061 rows × 2 columns</p>\n",
       "</div>"
      ],
      "text/plain": [
       "       Transaction_ID     Product_SKU\n",
       "0               16679  GGOENEBJ079499\n",
       "1               16680  GGOENEBJ079499\n",
       "2               16681  GGOEGFKQ020399\n",
       "3               16682  GGOEYAAB031816\n",
       "4               16684  GGOENEBQ079199\n",
       "...               ...             ...\n",
       "25056           48493  GGOENEBB078899\n",
       "25057           48494  GGOEGAEB091117\n",
       "25058           48495  GGOENEBQ084699\n",
       "25059           48496  GGOENEBQ079199\n",
       "25060           48497  GGOENEBQ079099\n",
       "\n",
       "[25061 rows x 2 columns]"
      ]
     },
     "execution_count": 86,
     "metadata": {},
     "output_type": "execute_result"
    }
   ],
   "source": [
    "df.groupby('Transaction_ID')['Product_SKU'].agg(max).reset_index()"
   ]
  },
  {
   "cell_type": "markdown",
   "id": "b2c89ebd",
   "metadata": {},
   "source": [
    "#### 2.11"
   ]
  },
  {
   "cell_type": "code",
   "execution_count": 87,
   "id": "366dad44",
   "metadata": {},
   "outputs": [],
   "source": [
    "#  Which product was purchased mostly based on the quantity?"
   ]
  },
  {
   "cell_type": "code",
   "execution_count": 88,
   "id": "c07cdf34",
   "metadata": {},
   "outputs": [
    {
     "data": {
      "text/plain": [
       "Product_Category\n",
       "Office       88383\n",
       "Apparel      32438\n",
       "Drinkware    30501\n",
       "Lifestyle    24881\n",
       "Nest-USA     21430\n",
       "Name: Quantity, dtype: int64"
      ]
     },
     "execution_count": 88,
     "metadata": {},
     "output_type": "execute_result"
    }
   ],
   "source": [
    "df.groupby('Product_Category')['Quantity'].sum().nlargest(5)"
   ]
  },
  {
   "cell_type": "markdown",
   "id": "cd1b872d",
   "metadata": {},
   "source": [
    "# 3. Performing Customer Segmentation"
   ]
  },
  {
   "cell_type": "code",
   "execution_count": 89,
   "id": "3894b715",
   "metadata": {},
   "outputs": [],
   "source": [
    "# Heuristic (Value based, RFM) – Divide the customers into Premium, Gold, Silver,\n",
    "# Standard customers and define strategy on the same. "
   ]
  },
  {
   "cell_type": "code",
   "execution_count": 90,
   "id": "7177f80c",
   "metadata": {},
   "outputs": [
    {
     "data": {
      "text/html": [
       "<div>\n",
       "<style scoped>\n",
       "    .dataframe tbody tr th:only-of-type {\n",
       "        vertical-align: middle;\n",
       "    }\n",
       "\n",
       "    .dataframe tbody tr th {\n",
       "        vertical-align: top;\n",
       "    }\n",
       "\n",
       "    .dataframe thead th {\n",
       "        text-align: right;\n",
       "    }\n",
       "</style>\n",
       "<table border=\"1\" class=\"dataframe\">\n",
       "  <thead>\n",
       "    <tr style=\"text-align: right;\">\n",
       "      <th></th>\n",
       "      <th>CustomerID</th>\n",
       "      <th>Transaction_Date</th>\n",
       "      <th>Invoice</th>\n",
       "    </tr>\n",
       "  </thead>\n",
       "  <tbody>\n",
       "    <tr>\n",
       "      <th>0</th>\n",
       "      <td>17850</td>\n",
       "      <td>2019-01-01</td>\n",
       "      <td>158.6729</td>\n",
       "    </tr>\n",
       "  </tbody>\n",
       "</table>\n",
       "</div>"
      ],
      "text/plain": [
       "   CustomerID Transaction_Date   Invoice\n",
       "0       17850       2019-01-01  158.6729"
      ]
     },
     "execution_count": 90,
     "metadata": {},
     "output_type": "execute_result"
    }
   ],
   "source": [
    "df[['CustomerID','Transaction_Date','Invoice']].head(1)"
   ]
  },
  {
   "cell_type": "code",
   "execution_count": 91,
   "id": "6266d79a",
   "metadata": {},
   "outputs": [
    {
     "data": {
      "text/plain": [
       "Timestamp('2020-01-01 00:00:00')"
      ]
     },
     "execution_count": 91,
     "metadata": {},
     "output_type": "execute_result"
    }
   ],
   "source": [
    "now = df['Transaction_Date'].max()+ pd.Timedelta(days=1)\n",
    "now"
   ]
  },
  {
   "cell_type": "code",
   "execution_count": 92,
   "id": "2dd74f75",
   "metadata": {},
   "outputs": [],
   "source": [
    "recency = (now - df.groupby('CustomerID')['Transaction_Date'].max()).dt.days.reset_index()\n",
    "recency = recency.rename(columns={'Transaction_Date' : 'Recency'})"
   ]
  },
  {
   "cell_type": "code",
   "execution_count": 93,
   "id": "1e650c11",
   "metadata": {},
   "outputs": [],
   "source": [
    "frequency = df.groupby('CustomerID')['Transaction_Date'].count().reset_index()\n",
    "frequency = frequency.rename(columns={'Transaction_Date' : 'Frequency'})"
   ]
  },
  {
   "cell_type": "code",
   "execution_count": 94,
   "id": "b4970160",
   "metadata": {},
   "outputs": [],
   "source": [
    "monetary = df.groupby('CustomerID')['Invoice'].sum().reset_index()\n",
    "monetary = monetary.rename(columns={'Invoice' : 'Monetary'})"
   ]
  },
  {
   "cell_type": "code",
   "execution_count": 95,
   "id": "3c00d2fe",
   "metadata": {},
   "outputs": [],
   "source": [
    "a = pd.merge(recency,frequency,on=['CustomerID'])\n",
    "rfm_df = a.merge(monetary,on=['CustomerID'])"
   ]
  },
  {
   "cell_type": "code",
   "execution_count": 96,
   "id": "d684bc81",
   "metadata": {},
   "outputs": [],
   "source": [
    "# [(0.636, 92.0] < (92.0, 183.0] < (183.0, 274.0] < (274.0, 365.0]]\n",
    "rfm_df['recency_score'] = pd.cut(rfm_df['Recency'],bins=4,labels=False)+1\n",
    "\n",
    "\n",
    "# [(0.306, 174.5] < (174.5, 348.0] < (348.0, 521.5] < (521.5, 695.0]]\n",
    "rfm_df['frequency_score'] = pd.cut(rfm_df['Frequency'],bins=4,labels=False)+1\n",
    "\n",
    "\n",
    "# [(-80.204, 21805.467] < (21805.467, 43603.943] < (43603.943, 65402.42] < (65402.42, 87200.896]]\n",
    "rfm_df['monetary_score'] = pd.cut(rfm_df['Monetary'],bins=4,labels=False)+1\n"
   ]
  },
  {
   "cell_type": "code",
   "execution_count": 97,
   "id": "866d85bc",
   "metadata": {},
   "outputs": [],
   "source": [
    "rfm_df['RFM_Segment'] = rfm_df['recency_score'] * 10 + rfm_df['frequency_score'] * 10 + rfm_df['monetary_score']*10"
   ]
  },
  {
   "cell_type": "code",
   "execution_count": 98,
   "id": "87f6a2c7",
   "metadata": {},
   "outputs": [],
   "source": [
    "def segment(RFM_Segment):\n",
    "    if RFM_Segment<=40:\n",
    "        return 'Standard'\n",
    "    elif (RFM_Segment>40) & (RFM_Segment<=70):\n",
    "        return 'Silver'\n",
    "    elif (RFM_Segment>70) & (RFM_Segment<=90):\n",
    "        return 'Premium'\n",
    "    else:\n",
    "        return 'Gold'"
   ]
  },
  {
   "cell_type": "code",
   "execution_count": 99,
   "id": "7067b4cf",
   "metadata": {},
   "outputs": [],
   "source": [
    "rfm_df['RFM_Segment'] = rfm_df['RFM_Segment'].apply(segment)"
   ]
  },
  {
   "cell_type": "code",
   "execution_count": 100,
   "id": "12368c28",
   "metadata": {},
   "outputs": [],
   "source": [
    "df = pd.merge(df,rfm_df,on=['CustomerID'],how='left')"
   ]
  },
  {
   "cell_type": "markdown",
   "id": "b0df7d63",
   "metadata": {},
   "source": [
    "# K-mean"
   ]
  },
  {
   "cell_type": "code",
   "execution_count": 101,
   "id": "48ea66be",
   "metadata": {},
   "outputs": [],
   "source": [
    "#  Scientific (Using K-Means) & Understand the profiles. Define strategy for each\n",
    "# # segment"
   ]
  },
  {
   "cell_type": "code",
   "execution_count": 102,
   "id": "e243a01e",
   "metadata": {},
   "outputs": [],
   "source": [
    "from sklearn.preprocessing import StandardScaler"
   ]
  },
  {
   "cell_type": "code",
   "execution_count": 103,
   "id": "72ac0291",
   "metadata": {},
   "outputs": [],
   "source": [
    "d = rfm_df[['Recency','Frequency','Monetary']]"
   ]
  },
  {
   "cell_type": "code",
   "execution_count": 104,
   "id": "70b542bf",
   "metadata": {},
   "outputs": [],
   "source": [
    "std_scalar = StandardScaler()\n",
    "std = std_scalar.fit_transform(d)\n",
    "d = pd.DataFrame(std,columns=['Recency', 'Frequency', 'Monetary'])"
   ]
  },
  {
   "cell_type": "code",
   "execution_count": 105,
   "id": "04c08ca2",
   "metadata": {},
   "outputs": [],
   "source": [
    "from sklearn.cluster import k_means, KMeans"
   ]
  },
  {
   "cell_type": "code",
   "execution_count": 106,
   "id": "84a04f18",
   "metadata": {},
   "outputs": [
    {
     "data": {
      "text/html": [
       "<div>\n",
       "<style scoped>\n",
       "    .dataframe tbody tr th:only-of-type {\n",
       "        vertical-align: middle;\n",
       "    }\n",
       "\n",
       "    .dataframe tbody tr th {\n",
       "        vertical-align: top;\n",
       "    }\n",
       "\n",
       "    .dataframe thead th {\n",
       "        text-align: right;\n",
       "    }\n",
       "</style>\n",
       "<table border=\"1\" class=\"dataframe\">\n",
       "  <thead>\n",
       "    <tr style=\"text-align: right;\">\n",
       "      <th></th>\n",
       "      <th>Recency</th>\n",
       "      <th>Frequency</th>\n",
       "      <th>Monetary</th>\n",
       "      <th>label</th>\n",
       "    </tr>\n",
       "  </thead>\n",
       "  <tbody>\n",
       "    <tr>\n",
       "      <th>0</th>\n",
       "      <td>-0.365961</td>\n",
       "      <td>-0.669410</td>\n",
       "      <td>-0.599185</td>\n",
       "      <td>1</td>\n",
       "    </tr>\n",
       "    <tr>\n",
       "      <th>1</th>\n",
       "      <td>-0.837001</td>\n",
       "      <td>0.470788</td>\n",
       "      <td>2.055096</td>\n",
       "      <td>1</td>\n",
       "    </tr>\n",
       "    <tr>\n",
       "      <th>2</th>\n",
       "      <td>-0.699614</td>\n",
       "      <td>-0.256579</td>\n",
       "      <td>-0.340022</td>\n",
       "      <td>1</td>\n",
       "    </tr>\n",
       "    <tr>\n",
       "      <th>3</th>\n",
       "      <td>-1.249160</td>\n",
       "      <td>-0.374531</td>\n",
       "      <td>-0.378030</td>\n",
       "      <td>1</td>\n",
       "    </tr>\n",
       "    <tr>\n",
       "      <th>4</th>\n",
       "      <td>-0.365961</td>\n",
       "      <td>-0.001018</td>\n",
       "      <td>-0.285630</td>\n",
       "      <td>1</td>\n",
       "    </tr>\n",
       "  </tbody>\n",
       "</table>\n",
       "</div>"
      ],
      "text/plain": [
       "    Recency  Frequency  Monetary  label\n",
       "0 -0.365961  -0.669410 -0.599185      1\n",
       "1 -0.837001   0.470788  2.055096      1\n",
       "2 -0.699614  -0.256579 -0.340022      1\n",
       "3 -1.249160  -0.374531 -0.378030      1\n",
       "4 -0.365961  -0.001018 -0.285630      1"
      ]
     },
     "execution_count": 106,
     "metadata": {},
     "output_type": "execute_result"
    }
   ],
   "source": [
    "kmean = KMeans(n_clusters=3)\n",
    "kmean = kmean.fit(d)\n",
    "pd.Series(kmean.labels_)\n",
    "d['label'] = pd.Series(kmean.labels_)\n",
    "d.head()"
   ]
  },
  {
   "cell_type": "code",
   "execution_count": 107,
   "id": "9a13973c",
   "metadata": {},
   "outputs": [],
   "source": [
    "from sklearn.metrics import silhouette_score , silhouette_samples "
   ]
  },
  {
   "cell_type": "code",
   "execution_count": 108,
   "id": "1e714c54",
   "metadata": {},
   "outputs": [
    {
     "data": {
      "text/plain": [
       "1900.2502582527304"
      ]
     },
     "execution_count": 108,
     "metadata": {},
     "output_type": "execute_result"
    }
   ],
   "source": [
    "kmean.inertia_"
   ]
  },
  {
   "cell_type": "code",
   "execution_count": 109,
   "id": "74a2c446",
   "metadata": {},
   "outputs": [
    {
     "data": {
      "text/plain": [
       "0.3986812074309163"
      ]
     },
     "execution_count": 109,
     "metadata": {},
     "output_type": "execute_result"
    }
   ],
   "source": [
    "silhouette_score(d.iloc[:,:-1],d['label'])"
   ]
  },
  {
   "cell_type": "markdown",
   "id": "55e24528",
   "metadata": {},
   "source": [
    "#### Iterate"
   ]
  },
  {
   "cell_type": "code",
   "execution_count": 110,
   "id": "98a3ce72",
   "metadata": {},
   "outputs": [
    {
     "data": {
      "text/html": [
       "<div>\n",
       "<style scoped>\n",
       "    .dataframe tbody tr th:only-of-type {\n",
       "        vertical-align: middle;\n",
       "    }\n",
       "\n",
       "    .dataframe tbody tr th {\n",
       "        vertical-align: top;\n",
       "    }\n",
       "\n",
       "    .dataframe thead th {\n",
       "        text-align: right;\n",
       "    }\n",
       "</style>\n",
       "<table border=\"1\" class=\"dataframe\">\n",
       "  <thead>\n",
       "    <tr style=\"text-align: right;\">\n",
       "      <th></th>\n",
       "      <th>k</th>\n",
       "      <th>inertia</th>\n",
       "      <th>sil_score</th>\n",
       "    </tr>\n",
       "  </thead>\n",
       "  <tbody>\n",
       "    <tr>\n",
       "      <th>0</th>\n",
       "      <td>1</td>\n",
       "      <td>4782.980926</td>\n",
       "      <td>NaN</td>\n",
       "    </tr>\n",
       "    <tr>\n",
       "      <th>1</th>\n",
       "      <td>2</td>\n",
       "      <td>3183.543168</td>\n",
       "      <td>0.376274</td>\n",
       "    </tr>\n",
       "    <tr>\n",
       "      <th>2</th>\n",
       "      <td>3</td>\n",
       "      <td>1900.250258</td>\n",
       "      <td>0.398681</td>\n",
       "    </tr>\n",
       "    <tr>\n",
       "      <th>3</th>\n",
       "      <td>4</td>\n",
       "      <td>1193.931181</td>\n",
       "      <td>0.434472</td>\n",
       "    </tr>\n",
       "    <tr>\n",
       "      <th>4</th>\n",
       "      <td>5</td>\n",
       "      <td>980.976671</td>\n",
       "      <td>0.420059</td>\n",
       "    </tr>\n",
       "  </tbody>\n",
       "</table>\n",
       "</div>"
      ],
      "text/plain": [
       "   k      inertia  sil_score\n",
       "0  1  4782.980926        NaN\n",
       "1  2  3183.543168   0.376274\n",
       "2  3  1900.250258   0.398681\n",
       "3  4  1193.931181   0.434472\n",
       "4  5   980.976671   0.420059"
      ]
     },
     "execution_count": 110,
     "metadata": {},
     "output_type": "execute_result"
    }
   ],
   "source": [
    "inertia_list = []\n",
    "silhouette_list = []\n",
    "\n",
    "for i in range(1,6):\n",
    "    kmean = KMeans(n_clusters=i)\n",
    "    kmean = kmean.fit(d)\n",
    "    inertia_list.append(kmean.inertia_)\n",
    "    \n",
    "    if i > 1 :\n",
    "        lab = kmean.labels_\n",
    "        abc = silhouette_score(d.iloc[:,:-1],lab) \n",
    "        silhouette_list.append(abc)\n",
    "    else :\n",
    "        silhouette_list.append(np.nan) \n",
    "\n",
    "fram = pd.DataFrame({'k': range(1,6), 'inertia':inertia_list, 'sil_score':silhouette_list})\n",
    "fram"
   ]
  },
  {
   "cell_type": "code",
   "execution_count": 111,
   "id": "85bfa289",
   "metadata": {},
   "outputs": [
    {
     "data": {
      "text/plain": [
       "[<matplotlib.lines.Line2D at 0xeee80cda50>]"
      ]
     },
     "execution_count": 111,
     "metadata": {},
     "output_type": "execute_result"
    },
    {
     "data": {
      "image/png": "[encoded data removed]",
      "text/plain": [
       "<Figure size 640x480 with 1 Axes>"
      ]
     },
     "metadata": {},
     "output_type": "display_data"
    }
   ],
   "source": [
    "plt.plot(fram['k'],fram['inertia'])"
   ]
  },
  {
   "cell_type": "markdown",
   "id": "752589b2",
   "metadata": {},
   "source": [
    "    k = 4 is best and sil_score is also high for that "
   ]
  },
  {
   "cell_type": "code",
   "execution_count": 112,
   "id": "18570c33",
   "metadata": {},
   "outputs": [
    {
     "data": {
      "text/html": [
       "<div>\n",
       "<style scoped>\n",
       "    .dataframe tbody tr th:only-of-type {\n",
       "        vertical-align: middle;\n",
       "    }\n",
       "\n",
       "    .dataframe tbody tr th {\n",
       "        vertical-align: top;\n",
       "    }\n",
       "\n",
       "    .dataframe thead th {\n",
       "        text-align: right;\n",
       "    }\n",
       "</style>\n",
       "<table border=\"1\" class=\"dataframe\">\n",
       "  <thead>\n",
       "    <tr style=\"text-align: right;\">\n",
       "      <th></th>\n",
       "      <th>Recency</th>\n",
       "      <th>Frequency</th>\n",
       "      <th>Monetary</th>\n",
       "      <th>label</th>\n",
       "    </tr>\n",
       "  </thead>\n",
       "  <tbody>\n",
       "    <tr>\n",
       "      <th>0</th>\n",
       "      <td>-0.365961</td>\n",
       "      <td>-0.669410</td>\n",
       "      <td>-0.599185</td>\n",
       "      <td>0</td>\n",
       "    </tr>\n",
       "    <tr>\n",
       "      <th>1</th>\n",
       "      <td>-0.837001</td>\n",
       "      <td>0.470788</td>\n",
       "      <td>2.055096</td>\n",
       "      <td>2</td>\n",
       "    </tr>\n",
       "    <tr>\n",
       "      <th>2</th>\n",
       "      <td>-0.699614</td>\n",
       "      <td>-0.256579</td>\n",
       "      <td>-0.340022</td>\n",
       "      <td>0</td>\n",
       "    </tr>\n",
       "    <tr>\n",
       "      <th>3</th>\n",
       "      <td>-1.249160</td>\n",
       "      <td>-0.374531</td>\n",
       "      <td>-0.378030</td>\n",
       "      <td>0</td>\n",
       "    </tr>\n",
       "    <tr>\n",
       "      <th>4</th>\n",
       "      <td>-0.365961</td>\n",
       "      <td>-0.001018</td>\n",
       "      <td>-0.285630</td>\n",
       "      <td>0</td>\n",
       "    </tr>\n",
       "  </tbody>\n",
       "</table>\n",
       "</div>"
      ],
      "text/plain": [
       "    Recency  Frequency  Monetary  label\n",
       "0 -0.365961  -0.669410 -0.599185      0\n",
       "1 -0.837001   0.470788  2.055096      2\n",
       "2 -0.699614  -0.256579 -0.340022      0\n",
       "3 -1.249160  -0.374531 -0.378030      0\n",
       "4 -0.365961  -0.001018 -0.285630      0"
      ]
     },
     "execution_count": 112,
     "metadata": {},
     "output_type": "execute_result"
    }
   ],
   "source": [
    "kmean = KMeans(n_clusters=4)\n",
    "kmean = kmean.fit(d)\n",
    "pd.Series(kmean.labels_)\n",
    "d['label'] = pd.Series(kmean.labels_)\n",
    "d.head()"
   ]
  },
  {
   "cell_type": "markdown",
   "id": "e23cd479",
   "metadata": {},
   "source": [
    "### PCA"
   ]
  },
  {
   "cell_type": "code",
   "execution_count": 113,
   "id": "bcf374e7",
   "metadata": {},
   "outputs": [],
   "source": [
    "from sklearn.decomposition import PCA"
   ]
  },
  {
   "cell_type": "code",
   "execution_count": 114,
   "id": "9c051b4f",
   "metadata": {},
   "outputs": [
    {
     "data": {
      "text/html": [
       "<style>#sk-container-id-1 {color: black;background-color: white;}#sk-container-id-1 pre{padding: 0;}#sk-container-id-1 div.sk-toggleable {background-color: white;}#sk-container-id-1 label.sk-toggleable__label {cursor: pointer;display: block;width: 100%;margin-bottom: 0;padding: 0.3em;box-sizing: border-box;text-align: center;}#sk-container-id-1 label.sk-toggleable__label-arrow:before {content: \"▸\";float: left;margin-right: 0.25em;color: #696969;}#sk-container-id-1 label.sk-toggleable__label-arrow:hover:before {color: black;}#sk-container-id-1 div.sk-estimator:hover label.sk-toggleable__label-arrow:before {color: black;}#sk-container-id-1 div.sk-toggleable__content {max-height: 0;max-width: 0;overflow: hidden;text-align: left;background-color: #f0f8ff;}#sk-container-id-1 div.sk-toggleable__content pre {margin: 0.2em;color: black;border-radius: 0.25em;background-color: #f0f8ff;}#sk-container-id-1 input.sk-toggleable__control:checked~div.sk-toggleable__content {max-height: 200px;max-width: 100%;overflow: auto;}#sk-container-id-1 input.sk-toggleable__control:checked~label.sk-toggleable__label-arrow:before {content: \"▾\";}#sk-container-id-1 div.sk-estimator input.sk-toggleable__control:checked~label.sk-toggleable__label {background-color: #d4ebff;}#sk-container-id-1 div.sk-label input.sk-toggleable__control:checked~label.sk-toggleable__label {background-color: #d4ebff;}#sk-container-id-1 input.sk-hidden--visually {border: 0;clip: rect(1px 1px 1px 1px);clip: rect(1px, 1px, 1px, 1px);height: 1px;margin: -1px;overflow: hidden;padding: 0;position: absolute;width: 1px;}#sk-container-id-1 div.sk-estimator {font-family: monospace;background-color: #f0f8ff;border: 1px dotted black;border-radius: 0.25em;box-sizing: border-box;margin-bottom: 0.5em;}#sk-container-id-1 div.sk-estimator:hover {background-color: #d4ebff;}#sk-container-id-1 div.sk-parallel-item::after {content: \"\";width: 100%;border-bottom: 1px solid gray;flex-grow: 1;}#sk-container-id-1 div.sk-label:hover label.sk-toggleable__label {background-color: #d4ebff;}#sk-container-id-1 div.sk-serial::before {content: \"\";position: absolute;border-left: 1px solid gray;box-sizing: border-box;top: 0;bottom: 0;left: 50%;z-index: 0;}#sk-container-id-1 div.sk-serial {display: flex;flex-direction: column;align-items: center;background-color: white;padding-right: 0.2em;padding-left: 0.2em;position: relative;}#sk-container-id-1 div.sk-item {position: relative;z-index: 1;}#sk-container-id-1 div.sk-parallel {display: flex;align-items: stretch;justify-content: center;background-color: white;position: relative;}#sk-container-id-1 div.sk-item::before, #sk-container-id-1 div.sk-parallel-item::before {content: \"\";position: absolute;border-left: 1px solid gray;box-sizing: border-box;top: 0;bottom: 0;left: 50%;z-index: -1;}#sk-container-id-1 div.sk-parallel-item {display: flex;flex-direction: column;z-index: 1;position: relative;background-color: white;}#sk-container-id-1 div.sk-parallel-item:first-child::after {align-self: flex-end;width: 50%;}#sk-container-id-1 div.sk-parallel-item:last-child::after {align-self: flex-start;width: 50%;}#sk-container-id-1 div.sk-parallel-item:only-child::after {width: 0;}#sk-container-id-1 div.sk-dashed-wrapped {border: 1px dashed gray;margin: 0 0.4em 0.5em 0.4em;box-sizing: border-box;padding-bottom: 0.4em;background-color: white;}#sk-container-id-1 div.sk-label label {font-family: monospace;font-weight: bold;display: inline-block;line-height: 1.2em;}#sk-container-id-1 div.sk-label-container {text-align: center;}#sk-container-id-1 div.sk-container {/* jupyter's `normalize.less` sets `[hidden] { display: none; }` but bootstrap.min.css set `[hidden] { display: none !important; }` so we also need the `!important` here to be able to override the default hidden behavior on the sphinx rendered scikit-learn.org. See: https://github.com/scikit-learn/scikit-learn/issues/21755 */display: inline-block !important;position: relative;}#sk-container-id-1 div.sk-text-repr-fallback {display: none;}</style><div id=\"sk-container-id-1\" class=\"sk-top-container\"><div class=\"sk-text-repr-fallback\"><pre>PCA(n_components=2)</pre><b>In a Jupyter environment, please rerun this cell to show the HTML representation or trust the notebook. <br />On GitHub, the HTML representation is unable to render, please try loading this page with nbviewer.org.</b></div><div class=\"sk-container\" hidden><div class=\"sk-item\"><div class=\"sk-estimator sk-toggleable\"><input class=\"sk-toggleable__control sk-hidden--visually\" id=\"sk-estimator-id-1\" type=\"checkbox\" checked><label for=\"sk-estimator-id-1\" class=\"sk-toggleable__label sk-toggleable__label-arrow\">PCA</label><div class=\"sk-toggleable__content\"><pre>PCA(n_components=2)</pre></div></div></div></div></div>"
      ],
      "text/plain": [
       "PCA(n_components=2)"
      ]
     },
     "execution_count": 114,
     "metadata": {},
     "output_type": "execute_result"
    }
   ],
   "source": [
    "pca = PCA(n_components=2)\n",
    "pca = pca.fit(d.iloc[:,:-1])\n",
    "pca"
   ]
  },
  {
   "cell_type": "code",
   "execution_count": 115,
   "id": "163f5298",
   "metadata": {},
   "outputs": [],
   "source": [
    "a = pca.transform(d.iloc[:,:-1])"
   ]
  },
  {
   "cell_type": "code",
   "execution_count": 116,
   "id": "1f9a0b7d",
   "metadata": {},
   "outputs": [
    {
     "data": {
      "text/html": [
       "<div>\n",
       "<style scoped>\n",
       "    .dataframe tbody tr th:only-of-type {\n",
       "        vertical-align: middle;\n",
       "    }\n",
       "\n",
       "    .dataframe tbody tr th {\n",
       "        vertical-align: top;\n",
       "    }\n",
       "\n",
       "    .dataframe thead th {\n",
       "        text-align: right;\n",
       "    }\n",
       "</style>\n",
       "<table border=\"1\" class=\"dataframe\">\n",
       "  <thead>\n",
       "    <tr style=\"text-align: right;\">\n",
       "      <th></th>\n",
       "      <th>pca1</th>\n",
       "      <th>pca2</th>\n",
       "    </tr>\n",
       "  </thead>\n",
       "  <tbody>\n",
       "    <tr>\n",
       "      <th>0</th>\n",
       "      <td>-0.767102</td>\n",
       "      <td>-0.591744</td>\n",
       "    </tr>\n",
       "    <tr>\n",
       "      <th>1</th>\n",
       "      <td>1.944548</td>\n",
       "      <td>-0.331154</td>\n",
       "    </tr>\n",
       "  </tbody>\n",
       "</table>\n",
       "</div>"
      ],
      "text/plain": [
       "       pca1      pca2\n",
       "0 -0.767102 -0.591744\n",
       "1  1.944548 -0.331154"
      ]
     },
     "execution_count": 116,
     "metadata": {},
     "output_type": "execute_result"
    }
   ],
   "source": [
    "ad = pd.DataFrame(a,columns=['pca1','pca2'])\n",
    "ad.head(2)"
   ]
  },
  {
   "cell_type": "code",
   "execution_count": 117,
   "id": "2b004499",
   "metadata": {},
   "outputs": [
    {
     "data": {
      "text/html": [
       "<div>\n",
       "<style scoped>\n",
       "    .dataframe tbody tr th:only-of-type {\n",
       "        vertical-align: middle;\n",
       "    }\n",
       "\n",
       "    .dataframe tbody tr th {\n",
       "        vertical-align: top;\n",
       "    }\n",
       "\n",
       "    .dataframe thead th {\n",
       "        text-align: right;\n",
       "    }\n",
       "</style>\n",
       "<table border=\"1\" class=\"dataframe\">\n",
       "  <thead>\n",
       "    <tr style=\"text-align: right;\">\n",
       "      <th></th>\n",
       "      <th>pca1</th>\n",
       "      <th>pca2</th>\n",
       "      <th>label</th>\n",
       "    </tr>\n",
       "  </thead>\n",
       "  <tbody>\n",
       "    <tr>\n",
       "      <th>0</th>\n",
       "      <td>-0.767102</td>\n",
       "      <td>-0.591744</td>\n",
       "      <td>0</td>\n",
       "    </tr>\n",
       "    <tr>\n",
       "      <th>1</th>\n",
       "      <td>1.944548</td>\n",
       "      <td>-0.331154</td>\n",
       "      <td>2</td>\n",
       "    </tr>\n",
       "    <tr>\n",
       "      <th>2</th>\n",
       "      <td>-0.220214</td>\n",
       "      <td>-0.786708</td>\n",
       "      <td>0</td>\n",
       "    </tr>\n",
       "  </tbody>\n",
       "</table>\n",
       "</div>"
      ],
      "text/plain": [
       "       pca1      pca2  label\n",
       "0 -0.767102 -0.591744      0\n",
       "1  1.944548 -0.331154      2\n",
       "2 -0.220214 -0.786708      0"
      ]
     },
     "execution_count": 117,
     "metadata": {},
     "output_type": "execute_result"
    }
   ],
   "source": [
    "ad['label'] = d['label']\n",
    "ad.head(3)"
   ]
  },
  {
   "cell_type": "code",
   "execution_count": 118,
   "id": "b0513986",
   "metadata": {},
   "outputs": [
    {
     "data": {
      "image/png": "[encoded data removed]",
      "text/plain": [
       "<Figure size 640x480 with 2 Axes>"
      ]
     },
     "metadata": {},
     "output_type": "display_data"
    }
   ],
   "source": [
    "plt.subplot(1,2,1)\n",
    "plt.scatter(d['Recency'], d['Monetary'], c=d['label'], cmap='viridis', marker='o')\n",
    "plt.title(' before pca')\n",
    "\n",
    "plt.subplot(1,2,2)\n",
    "plt.scatter(ad['pca1'],ad['pca2'],c=ad['label'], cmap='viridis', marker='o')\n",
    "plt.xlabel('pca1')\n",
    "plt.ylabel('pca2')\n",
    "plt.title('pca')\n",
    "plt.tight_layout()"
   ]
  },
  {
   "cell_type": "markdown",
   "id": "fc33e19a",
   "metadata": {},
   "source": [
    "# 4"
   ]
  },
  {
   "cell_type": "code",
   "execution_count": 119,
   "id": "ab1a3437",
   "metadata": {},
   "outputs": [],
   "source": [
    "# 4. Predicting Customer Lifetime Value (Low Value/Medium Value/High Value)\n",
    "#  First define dependent variable with categories low value, medium value, high value\n",
    "# using customer revenue.\n",
    "#  Then perform Classification mode"
   ]
  },
  {
   "cell_type": "code",
   "execution_count": 120,
   "id": "a1456b63",
   "metadata": {},
   "outputs": [
    {
     "data": {
      "text/plain": [
       "count     1468.000000\n",
       "mean      3676.674895\n",
       "std       5846.082106\n",
       "min          6.990000\n",
       "25%        783.974310\n",
       "50%       2011.622610\n",
       "75%       4495.056630\n",
       "max      87200.896260\n",
       "Name: Monetary, dtype: float64"
      ]
     },
     "execution_count": 120,
     "metadata": {},
     "output_type": "execute_result"
    }
   ],
   "source": [
    "rfm_df['Monetary'].describe()"
   ]
  },
  {
   "cell_type": "code",
   "execution_count": 121,
   "id": "81ee8d53",
   "metadata": {},
   "outputs": [],
   "source": [
    "rfm_df['segment'] = pd.cut(rfm_df['Monetary'], bins=[0, 1000, 5000, float('inf')], labels=['Low', 'Medium', 'High'])"
   ]
  },
  {
   "cell_type": "markdown",
   "id": "f33e4cd0",
   "metadata": {},
   "source": [
    "### MOdelling"
   ]
  },
  {
   "cell_type": "code",
   "execution_count": 122,
   "id": "aa715d31",
   "metadata": {},
   "outputs": [],
   "source": [
    "from sklearn.linear_model import LogisticRegression\n",
    "from sklearn.datasets import make_classification\n",
    "from sklearn.metrics import accuracy_score, classification_report\n",
    "from sklearn.model_selection import train_test_split\n",
    "from imblearn.over_sampling import SMOTE\n",
    "from collections import Counter"
   ]
  },
  {
   "cell_type": "code",
   "execution_count": 123,
   "id": "facc83a3",
   "metadata": {},
   "outputs": [],
   "source": [
    "X = rfm_df[['Recency', 'Frequency', 'Monetary']]\n",
    "y = rfm_df['segment']"
   ]
  },
  {
   "cell_type": "code",
   "execution_count": 124,
   "id": "9208f5de",
   "metadata": {},
   "outputs": [
    {
     "data": {
      "text/plain": [
       "Medium    697\n",
       "Low       440\n",
       "High      331\n",
       "Name: segment, dtype: int64"
      ]
     },
     "execution_count": 124,
     "metadata": {},
     "output_type": "execute_result"
    }
   ],
   "source": [
    "y.value_counts()"
   ]
  },
  {
   "cell_type": "code",
   "execution_count": 125,
   "id": "ab5fc825",
   "metadata": {},
   "outputs": [],
   "source": [
    "X_train, X_test, y_train, y_test = train_test_split(X, y, test_size=0.2, random_state=42)"
   ]
  },
  {
   "cell_type": "code",
   "execution_count": 126,
   "id": "94785f51",
   "metadata": {},
   "outputs": [
    {
     "data": {
      "text/plain": [
       "Low       355\n",
       "Medium    548\n",
       "High      271\n",
       "dtype: int64"
      ]
     },
     "execution_count": 126,
     "metadata": {},
     "output_type": "execute_result"
    }
   ],
   "source": [
    "pd.Series(Counter(y_train))"
   ]
  },
  {
   "cell_type": "markdown",
   "id": "bedc3c27",
   "metadata": {},
   "source": [
    "# Smote"
   ]
  },
  {
   "cell_type": "code",
   "execution_count": 127,
   "id": "27adf53e",
   "metadata": {},
   "outputs": [],
   "source": [
    "smote = SMOTE(random_state=42)\n",
    "X_train_resampled, y_train_resampled = smote.fit_resample(X_train, y_train)"
   ]
  },
  {
   "cell_type": "code",
   "execution_count": 128,
   "id": "2e488cbd",
   "metadata": {},
   "outputs": [
    {
     "data": {
      "text/plain": [
       "Low       548\n",
       "Medium    548\n",
       "High      548\n",
       "dtype: int64"
      ]
     },
     "execution_count": 128,
     "metadata": {},
     "output_type": "execute_result"
    }
   ],
   "source": [
    "pd.Series(Counter(y_train_resampled))"
   ]
  },
  {
   "cell_type": "code",
   "execution_count": 129,
   "id": "c6954fe4",
   "metadata": {},
   "outputs": [
    {
     "name": "stdout",
     "output_type": "stream",
     "text": [
      "train test  0.8662691652470187 0.8401360544217688\n",
      "\n",
      "\n",
      "              precision    recall  f1-score   support\n",
      "\n",
      "        High       0.77      0.98      0.86        60\n",
      "         Low       0.87      0.79      0.83        85\n",
      "      Medium       0.86      0.81      0.84       149\n",
      "\n",
      "    accuracy                           0.84       294\n",
      "   macro avg       0.83      0.86      0.84       294\n",
      "weighted avg       0.85      0.84      0.84       294\n",
      "\n"
     ]
    }
   ],
   "source": [
    "model = LogisticRegression()\n",
    "\n",
    "model.fit(X_train_resampled,y_train_resampled)\n",
    "\n",
    "y_train_pred = model.predict(X_train)\n",
    "y_test_pred =  model.predict(X_test)\n",
    "\n",
    "train_accuracy = accuracy_score(y_train, y_train_pred)\n",
    "test_accuracy = accuracy_score(y_test, y_test_pred)\n",
    "\n",
    "print('train test ' , train_accuracy , test_accuracy)\n",
    "print('\\n')\n",
    "print(classification_report(y_test, y_test_pred))\n",
    "\n"
   ]
  },
  {
   "cell_type": "markdown",
   "id": "d9fffbcd",
   "metadata": {},
   "source": [
    "# 5 Cross-Selling"
   ]
  },
  {
   "cell_type": "code",
   "execution_count": 130,
   "id": "4744a94a",
   "metadata": {},
   "outputs": [],
   "source": [
    "# 5. Cross-Selling (Which products are selling together)\n",
    "#  You can perform exploratory analysis & market basket analysis to understand which\n",
    "# of items can be bundled together."
   ]
  },
  {
   "cell_type": "code",
   "execution_count": 131,
   "id": "d1ba31d1",
   "metadata": {},
   "outputs": [
    {
     "data": {
      "text/html": [
       "<div>\n",
       "<style scoped>\n",
       "    .dataframe tbody tr th:only-of-type {\n",
       "        vertical-align: middle;\n",
       "    }\n",
       "\n",
       "    .dataframe tbody tr th {\n",
       "        vertical-align: top;\n",
       "    }\n",
       "\n",
       "    .dataframe thead th {\n",
       "        text-align: right;\n",
       "    }\n",
       "</style>\n",
       "<table border=\"1\" class=\"dataframe\">\n",
       "  <thead>\n",
       "    <tr style=\"text-align: right;\">\n",
       "      <th></th>\n",
       "      <th>Transaction_ID</th>\n",
       "      <th>Product_Category</th>\n",
       "    </tr>\n",
       "  </thead>\n",
       "  <tbody>\n",
       "    <tr>\n",
       "      <th>0</th>\n",
       "      <td>16679</td>\n",
       "      <td>{Nest-USA}</td>\n",
       "    </tr>\n",
       "    <tr>\n",
       "      <th>1</th>\n",
       "      <td>16680</td>\n",
       "      <td>{Nest-USA}</td>\n",
       "    </tr>\n",
       "    <tr>\n",
       "      <th>2</th>\n",
       "      <td>16681</td>\n",
       "      <td>{Office}</td>\n",
       "    </tr>\n",
       "  </tbody>\n",
       "</table>\n",
       "</div>"
      ],
      "text/plain": [
       "   Transaction_ID Product_Category\n",
       "0           16679       {Nest-USA}\n",
       "1           16680       {Nest-USA}\n",
       "2           16681         {Office}"
      ]
     },
     "execution_count": 131,
     "metadata": {},
     "output_type": "execute_result"
    }
   ],
   "source": [
    "transaction_level = df.groupby('Transaction_ID')['Product_Category'].agg(set).reset_index()\n",
    "transaction_level.head(3)"
   ]
  },
  {
   "cell_type": "code",
   "execution_count": 132,
   "id": "cd64979d",
   "metadata": {},
   "outputs": [
    {
     "data": {
      "text/plain": [
       "[(('Office', 'Apparel'), 545),\n",
       " (('Nest', 'Nest-USA'), 462),\n",
       " (('Drinkware', 'Apparel'), 329),\n",
       " (('Nest-USA', 'Apparel'), 245),\n",
       " (('Office', 'Drinkware'), 215),\n",
       " (('Headgear', 'Apparel'), 181),\n",
       " (('Lifestyle', 'Apparel'), 176),\n",
       " (('Bags', 'Apparel'), 170),\n",
       " (('Office', 'Lifestyle'), 134),\n",
       " (('Office', 'Drinkware', 'Apparel'), 127)]"
      ]
     },
     "execution_count": 132,
     "metadata": {},
     "output_type": "execute_result"
    }
   ],
   "source": [
    "t = transaction_level[transaction_level['Product_Category'].apply(func= lambda x: len(x)>=2)]\n",
    "t['length'] = t['Product_Category'].apply(len)\n",
    "t['Product_Category'] = t['Product_Category'].apply(lambda x : tuple(x))\n",
    "sku = Counter(t['Product_Category']).most_common(10)\n",
    "sku"
   ]
  },
  {
   "cell_type": "markdown",
   "id": "1c76fe3c",
   "metadata": {},
   "source": [
    "     - these are the most frequent combinations brought by customers"
   ]
  },
  {
   "cell_type": "markdown",
   "id": "9072f448",
   "metadata": {},
   "source": [
    "# Market Basket Analysis"
   ]
  },
  {
   "cell_type": "code",
   "execution_count": 133,
   "id": "9ee1523e",
   "metadata": {},
   "outputs": [],
   "source": [
    "from mlxtend.frequent_patterns import apriori , association_rules"
   ]
  },
  {
   "cell_type": "code",
   "execution_count": 134,
   "id": "843abcf3",
   "metadata": {},
   "outputs": [
    {
     "data": {
      "text/html": [
       "<div>\n",
       "<style scoped>\n",
       "    .dataframe tbody tr th:only-of-type {\n",
       "        vertical-align: middle;\n",
       "    }\n",
       "\n",
       "    .dataframe tbody tr th {\n",
       "        vertical-align: top;\n",
       "    }\n",
       "\n",
       "    .dataframe thead th {\n",
       "        text-align: right;\n",
       "    }\n",
       "</style>\n",
       "<table border=\"1\" class=\"dataframe\">\n",
       "  <thead>\n",
       "    <tr style=\"text-align: right;\">\n",
       "      <th>Product_Category</th>\n",
       "      <th>Accessories</th>\n",
       "      <th>Android</th>\n",
       "      <th>Apparel</th>\n",
       "      <th>Backpacks</th>\n",
       "      <th>Bags</th>\n",
       "      <th>Bottles</th>\n",
       "      <th>Drinkware</th>\n",
       "      <th>Fun</th>\n",
       "      <th>Gift Cards</th>\n",
       "      <th>Google</th>\n",
       "      <th>Headgear</th>\n",
       "      <th>Housewares</th>\n",
       "      <th>Lifestyle</th>\n",
       "      <th>More Bags</th>\n",
       "      <th>Nest</th>\n",
       "      <th>Nest-Canada</th>\n",
       "      <th>Nest-USA</th>\n",
       "      <th>Notebooks &amp; Journals</th>\n",
       "      <th>Office</th>\n",
       "      <th>Waze</th>\n",
       "    </tr>\n",
       "    <tr>\n",
       "      <th>Transaction_ID</th>\n",
       "      <th></th>\n",
       "      <th></th>\n",
       "      <th></th>\n",
       "      <th></th>\n",
       "      <th></th>\n",
       "      <th></th>\n",
       "      <th></th>\n",
       "      <th></th>\n",
       "      <th></th>\n",
       "      <th></th>\n",
       "      <th></th>\n",
       "      <th></th>\n",
       "      <th></th>\n",
       "      <th></th>\n",
       "      <th></th>\n",
       "      <th></th>\n",
       "      <th></th>\n",
       "      <th></th>\n",
       "      <th></th>\n",
       "      <th></th>\n",
       "    </tr>\n",
       "  </thead>\n",
       "  <tbody>\n",
       "    <tr>\n",
       "      <th>16679</th>\n",
       "      <td>0.0</td>\n",
       "      <td>0.0</td>\n",
       "      <td>0.0</td>\n",
       "      <td>0.0</td>\n",
       "      <td>0.0</td>\n",
       "      <td>0.0</td>\n",
       "      <td>0.0</td>\n",
       "      <td>0.0</td>\n",
       "      <td>0.0</td>\n",
       "      <td>0.0</td>\n",
       "      <td>0.0</td>\n",
       "      <td>0.0</td>\n",
       "      <td>0.0</td>\n",
       "      <td>0.0</td>\n",
       "      <td>0.0</td>\n",
       "      <td>0.0</td>\n",
       "      <td>1.0</td>\n",
       "      <td>0.0</td>\n",
       "      <td>0.0</td>\n",
       "      <td>0.0</td>\n",
       "    </tr>\n",
       "    <tr>\n",
       "      <th>16680</th>\n",
       "      <td>0.0</td>\n",
       "      <td>0.0</td>\n",
       "      <td>0.0</td>\n",
       "      <td>0.0</td>\n",
       "      <td>0.0</td>\n",
       "      <td>0.0</td>\n",
       "      <td>0.0</td>\n",
       "      <td>0.0</td>\n",
       "      <td>0.0</td>\n",
       "      <td>0.0</td>\n",
       "      <td>0.0</td>\n",
       "      <td>0.0</td>\n",
       "      <td>0.0</td>\n",
       "      <td>0.0</td>\n",
       "      <td>0.0</td>\n",
       "      <td>0.0</td>\n",
       "      <td>1.0</td>\n",
       "      <td>0.0</td>\n",
       "      <td>0.0</td>\n",
       "      <td>0.0</td>\n",
       "    </tr>\n",
       "    <tr>\n",
       "      <th>16681</th>\n",
       "      <td>0.0</td>\n",
       "      <td>0.0</td>\n",
       "      <td>0.0</td>\n",
       "      <td>0.0</td>\n",
       "      <td>0.0</td>\n",
       "      <td>0.0</td>\n",
       "      <td>0.0</td>\n",
       "      <td>0.0</td>\n",
       "      <td>0.0</td>\n",
       "      <td>0.0</td>\n",
       "      <td>0.0</td>\n",
       "      <td>0.0</td>\n",
       "      <td>0.0</td>\n",
       "      <td>0.0</td>\n",
       "      <td>0.0</td>\n",
       "      <td>0.0</td>\n",
       "      <td>0.0</td>\n",
       "      <td>0.0</td>\n",
       "      <td>1.0</td>\n",
       "      <td>0.0</td>\n",
       "    </tr>\n",
       "  </tbody>\n",
       "</table>\n",
       "</div>"
      ],
      "text/plain": [
       "Product_Category  Accessories  Android  Apparel  Backpacks  Bags  Bottles  \\\n",
       "Transaction_ID                                                              \n",
       "16679                     0.0      0.0      0.0        0.0   0.0      0.0   \n",
       "16680                     0.0      0.0      0.0        0.0   0.0      0.0   \n",
       "16681                     0.0      0.0      0.0        0.0   0.0      0.0   \n",
       "\n",
       "Product_Category  Drinkware  Fun  Gift Cards  Google  Headgear  Housewares  \\\n",
       "Transaction_ID                                                               \n",
       "16679                   0.0  0.0         0.0     0.0       0.0         0.0   \n",
       "16680                   0.0  0.0         0.0     0.0       0.0         0.0   \n",
       "16681                   0.0  0.0         0.0     0.0       0.0         0.0   \n",
       "\n",
       "Product_Category  Lifestyle  More Bags  Nest  Nest-Canada  Nest-USA  \\\n",
       "Transaction_ID                                                        \n",
       "16679                   0.0        0.0   0.0          0.0       1.0   \n",
       "16680                   0.0        0.0   0.0          0.0       1.0   \n",
       "16681                   0.0        0.0   0.0          0.0       0.0   \n",
       "\n",
       "Product_Category  Notebooks & Journals  Office  Waze  \n",
       "Transaction_ID                                        \n",
       "16679                              0.0     0.0   0.0  \n",
       "16680                              0.0     0.0   0.0  \n",
       "16681                              0.0     1.0   0.0  "
      ]
     },
     "execution_count": 134,
     "metadata": {},
     "output_type": "execute_result"
    }
   ],
   "source": [
    "basket = df.groupby(['Transaction_ID','Product_Category'])['Quantity'].sum().unstack().fillna(0)\n",
    "basket.head(3)"
   ]
  },
  {
   "cell_type": "code",
   "execution_count": 135,
   "id": "929752f2",
   "metadata": {},
   "outputs": [],
   "source": [
    "def encode_units (x):\n",
    "    if x <= 0:\n",
    "        return 0\n",
    "    if x >=1:\n",
    "        return 1"
   ]
  },
  {
   "cell_type": "code",
   "execution_count": 136,
   "id": "df87ba78",
   "metadata": {},
   "outputs": [
    {
     "data": {
      "text/html": [
       "<div>\n",
       "<style scoped>\n",
       "    .dataframe tbody tr th:only-of-type {\n",
       "        vertical-align: middle;\n",
       "    }\n",
       "\n",
       "    .dataframe tbody tr th {\n",
       "        vertical-align: top;\n",
       "    }\n",
       "\n",
       "    .dataframe thead th {\n",
       "        text-align: right;\n",
       "    }\n",
       "</style>\n",
       "<table border=\"1\" class=\"dataframe\">\n",
       "  <thead>\n",
       "    <tr style=\"text-align: right;\">\n",
       "      <th>Product_Category</th>\n",
       "      <th>Accessories</th>\n",
       "      <th>Android</th>\n",
       "      <th>Apparel</th>\n",
       "      <th>Backpacks</th>\n",
       "      <th>Bags</th>\n",
       "      <th>Bottles</th>\n",
       "      <th>Drinkware</th>\n",
       "      <th>Fun</th>\n",
       "      <th>Gift Cards</th>\n",
       "      <th>Google</th>\n",
       "      <th>Headgear</th>\n",
       "      <th>Housewares</th>\n",
       "      <th>Lifestyle</th>\n",
       "      <th>More Bags</th>\n",
       "      <th>Nest</th>\n",
       "      <th>Nest-Canada</th>\n",
       "      <th>Nest-USA</th>\n",
       "      <th>Notebooks &amp; Journals</th>\n",
       "      <th>Office</th>\n",
       "      <th>Waze</th>\n",
       "    </tr>\n",
       "    <tr>\n",
       "      <th>Transaction_ID</th>\n",
       "      <th></th>\n",
       "      <th></th>\n",
       "      <th></th>\n",
       "      <th></th>\n",
       "      <th></th>\n",
       "      <th></th>\n",
       "      <th></th>\n",
       "      <th></th>\n",
       "      <th></th>\n",
       "      <th></th>\n",
       "      <th></th>\n",
       "      <th></th>\n",
       "      <th></th>\n",
       "      <th></th>\n",
       "      <th></th>\n",
       "      <th></th>\n",
       "      <th></th>\n",
       "      <th></th>\n",
       "      <th></th>\n",
       "      <th></th>\n",
       "    </tr>\n",
       "  </thead>\n",
       "  <tbody>\n",
       "    <tr>\n",
       "      <th>16679</th>\n",
       "      <td>0</td>\n",
       "      <td>0</td>\n",
       "      <td>0</td>\n",
       "      <td>0</td>\n",
       "      <td>0</td>\n",
       "      <td>0</td>\n",
       "      <td>0</td>\n",
       "      <td>0</td>\n",
       "      <td>0</td>\n",
       "      <td>0</td>\n",
       "      <td>0</td>\n",
       "      <td>0</td>\n",
       "      <td>0</td>\n",
       "      <td>0</td>\n",
       "      <td>0</td>\n",
       "      <td>0</td>\n",
       "      <td>1</td>\n",
       "      <td>0</td>\n",
       "      <td>0</td>\n",
       "      <td>0</td>\n",
       "    </tr>\n",
       "  </tbody>\n",
       "</table>\n",
       "</div>"
      ],
      "text/plain": [
       "Product_Category  Accessories  Android  Apparel  Backpacks  Bags  Bottles  \\\n",
       "Transaction_ID                                                              \n",
       "16679                       0        0        0          0     0        0   \n",
       "\n",
       "Product_Category  Drinkware  Fun  Gift Cards  Google  Headgear  Housewares  \\\n",
       "Transaction_ID                                                               \n",
       "16679                     0    0           0       0         0           0   \n",
       "\n",
       "Product_Category  Lifestyle  More Bags  Nest  Nest-Canada  Nest-USA  \\\n",
       "Transaction_ID                                                        \n",
       "16679                     0          0     0            0         1   \n",
       "\n",
       "Product_Category  Notebooks & Journals  Office  Waze  \n",
       "Transaction_ID                                        \n",
       "16679                                0       0     0  "
      ]
     },
     "execution_count": 136,
     "metadata": {},
     "output_type": "execute_result"
    }
   ],
   "source": [
    "basket_set = basket.applymap(encode_units)\n",
    "basket_set.head(1)"
   ]
  },
  {
   "cell_type": "code",
   "execution_count": 137,
   "id": "a8c6e64b",
   "metadata": {},
   "outputs": [
    {
     "name": "stderr",
     "output_type": "stream",
     "text": [
      "D:\\anaconda\\lib\\site-packages\\mlxtend\\frequent_patterns\\fpcommon.py:109: DeprecationWarning: DataFrames with non-bool types result in worse computationalperformance and their support might be discontinued in the future.Please use a DataFrame with bool type\n",
      "  warnings.warn(\n"
     ]
    },
    {
     "data": {
      "text/html": [
       "<div>\n",
       "<style scoped>\n",
       "    .dataframe tbody tr th:only-of-type {\n",
       "        vertical-align: middle;\n",
       "    }\n",
       "\n",
       "    .dataframe tbody tr th {\n",
       "        vertical-align: top;\n",
       "    }\n",
       "\n",
       "    .dataframe thead th {\n",
       "        text-align: right;\n",
       "    }\n",
       "</style>\n",
       "<table border=\"1\" class=\"dataframe\">\n",
       "  <thead>\n",
       "    <tr style=\"text-align: right;\">\n",
       "      <th></th>\n",
       "      <th>support</th>\n",
       "      <th>itemsets</th>\n",
       "    </tr>\n",
       "  </thead>\n",
       "  <tbody>\n",
       "    <tr>\n",
       "      <th>0</th>\n",
       "      <td>0.324369</td>\n",
       "      <td>(Apparel)</td>\n",
       "    </tr>\n",
       "  </tbody>\n",
       "</table>\n",
       "</div>"
      ],
      "text/plain": [
       "    support   itemsets\n",
       "0  0.324369  (Apparel)"
      ]
     },
     "execution_count": 137,
     "metadata": {},
     "output_type": "execute_result"
    }
   ],
   "source": [
    "freq_items_set  =apriori(basket_set, min_support=0.02, use_colnames=True)\n",
    "freq_items_set.head(1)"
   ]
  },
  {
   "cell_type": "code",
   "execution_count": 138,
   "id": "007bb196",
   "metadata": {},
   "outputs": [],
   "source": [
    "rules = association_rules(freq_items_set,  metric='lift', min_threshold=0.5)"
   ]
  },
  {
   "cell_type": "code",
   "execution_count": 139,
   "id": "2ca0975a",
   "metadata": {},
   "outputs": [
    {
     "data": {
      "text/html": [
       "<div>\n",
       "<style scoped>\n",
       "    .dataframe tbody tr th:only-of-type {\n",
       "        vertical-align: middle;\n",
       "    }\n",
       "\n",
       "    .dataframe tbody tr th {\n",
       "        vertical-align: top;\n",
       "    }\n",
       "\n",
       "    .dataframe thead th {\n",
       "        text-align: right;\n",
       "    }\n",
       "</style>\n",
       "<table border=\"1\" class=\"dataframe\">\n",
       "  <thead>\n",
       "    <tr style=\"text-align: right;\">\n",
       "      <th></th>\n",
       "      <th>antecedents</th>\n",
       "      <th>consequents</th>\n",
       "      <th>antecedent support</th>\n",
       "      <th>consequent support</th>\n",
       "      <th>support</th>\n",
       "      <th>confidence</th>\n",
       "      <th>lift</th>\n",
       "      <th>leverage</th>\n",
       "      <th>conviction</th>\n",
       "      <th>zhangs_metric</th>\n",
       "    </tr>\n",
       "  </thead>\n",
       "  <tbody>\n",
       "    <tr>\n",
       "      <th>8</th>\n",
       "      <td>(Bags)</td>\n",
       "      <td>(Drinkware)</td>\n",
       "      <td>0.061650</td>\n",
       "      <td>0.100714</td>\n",
       "      <td>0.021707</td>\n",
       "      <td>0.352104</td>\n",
       "      <td>3.496065</td>\n",
       "      <td>0.015498</td>\n",
       "      <td>1.388008</td>\n",
       "      <td>0.760872</td>\n",
       "    </tr>\n",
       "    <tr>\n",
       "      <th>9</th>\n",
       "      <td>(Drinkware)</td>\n",
       "      <td>(Bags)</td>\n",
       "      <td>0.100714</td>\n",
       "      <td>0.061650</td>\n",
       "      <td>0.021707</td>\n",
       "      <td>0.215531</td>\n",
       "      <td>3.496065</td>\n",
       "      <td>0.015498</td>\n",
       "      <td>1.196160</td>\n",
       "      <td>0.793924</td>\n",
       "    </tr>\n",
       "    <tr>\n",
       "      <th>10</th>\n",
       "      <td>(Bags)</td>\n",
       "      <td>(Office)</td>\n",
       "      <td>0.061650</td>\n",
       "      <td>0.140697</td>\n",
       "      <td>0.026336</td>\n",
       "      <td>0.427184</td>\n",
       "      <td>3.036208</td>\n",
       "      <td>0.017662</td>\n",
       "      <td>1.500140</td>\n",
       "      <td>0.714703</td>\n",
       "    </tr>\n",
       "    <tr>\n",
       "      <th>11</th>\n",
       "      <td>(Office)</td>\n",
       "      <td>(Bags)</td>\n",
       "      <td>0.140697</td>\n",
       "      <td>0.061650</td>\n",
       "      <td>0.026336</td>\n",
       "      <td>0.187181</td>\n",
       "      <td>3.036208</td>\n",
       "      <td>0.017662</td>\n",
       "      <td>1.154439</td>\n",
       "      <td>0.780448</td>\n",
       "    </tr>\n",
       "    <tr>\n",
       "      <th>12</th>\n",
       "      <td>(Drinkware)</td>\n",
       "      <td>(Lifestyle)</td>\n",
       "      <td>0.100714</td>\n",
       "      <td>0.068313</td>\n",
       "      <td>0.025857</td>\n",
       "      <td>0.256735</td>\n",
       "      <td>3.758203</td>\n",
       "      <td>0.018977</td>\n",
       "      <td>1.253506</td>\n",
       "      <td>0.816109</td>\n",
       "    </tr>\n",
       "    <tr>\n",
       "      <th>13</th>\n",
       "      <td>(Lifestyle)</td>\n",
       "      <td>(Drinkware)</td>\n",
       "      <td>0.068313</td>\n",
       "      <td>0.100714</td>\n",
       "      <td>0.025857</td>\n",
       "      <td>0.378505</td>\n",
       "      <td>3.758203</td>\n",
       "      <td>0.018977</td>\n",
       "      <td>1.446971</td>\n",
       "      <td>0.787728</td>\n",
       "    </tr>\n",
       "    <tr>\n",
       "      <th>14</th>\n",
       "      <td>(Drinkware)</td>\n",
       "      <td>(Office)</td>\n",
       "      <td>0.100714</td>\n",
       "      <td>0.140697</td>\n",
       "      <td>0.046287</td>\n",
       "      <td>0.459588</td>\n",
       "      <td>3.266516</td>\n",
       "      <td>0.032117</td>\n",
       "      <td>1.590089</td>\n",
       "      <td>0.771572</td>\n",
       "    </tr>\n",
       "    <tr>\n",
       "      <th>15</th>\n",
       "      <td>(Office)</td>\n",
       "      <td>(Drinkware)</td>\n",
       "      <td>0.140697</td>\n",
       "      <td>0.100714</td>\n",
       "      <td>0.046287</td>\n",
       "      <td>0.328985</td>\n",
       "      <td>3.266516</td>\n",
       "      <td>0.032117</td>\n",
       "      <td>1.340187</td>\n",
       "      <td>0.807472</td>\n",
       "    </tr>\n",
       "    <tr>\n",
       "      <th>16</th>\n",
       "      <td>(Office)</td>\n",
       "      <td>(Lifestyle)</td>\n",
       "      <td>0.140697</td>\n",
       "      <td>0.068313</td>\n",
       "      <td>0.035114</td>\n",
       "      <td>0.249575</td>\n",
       "      <td>3.653381</td>\n",
       "      <td>0.025503</td>\n",
       "      <td>1.241545</td>\n",
       "      <td>0.845197</td>\n",
       "    </tr>\n",
       "    <tr>\n",
       "      <th>17</th>\n",
       "      <td>(Lifestyle)</td>\n",
       "      <td>(Office)</td>\n",
       "      <td>0.068313</td>\n",
       "      <td>0.140697</td>\n",
       "      <td>0.035114</td>\n",
       "      <td>0.514019</td>\n",
       "      <td>3.653381</td>\n",
       "      <td>0.025503</td>\n",
       "      <td>1.768182</td>\n",
       "      <td>0.779533</td>\n",
       "    </tr>\n",
       "    <tr>\n",
       "      <th>19</th>\n",
       "      <td>(Drinkware, Apparel)</td>\n",
       "      <td>(Office)</td>\n",
       "      <td>0.045010</td>\n",
       "      <td>0.140697</td>\n",
       "      <td>0.020670</td>\n",
       "      <td>0.459220</td>\n",
       "      <td>3.263899</td>\n",
       "      <td>0.014337</td>\n",
       "      <td>1.589007</td>\n",
       "      <td>0.726309</td>\n",
       "    </tr>\n",
       "    <tr>\n",
       "      <th>20</th>\n",
       "      <td>(Office, Apparel)</td>\n",
       "      <td>(Drinkware)</td>\n",
       "      <td>0.062128</td>\n",
       "      <td>0.100714</td>\n",
       "      <td>0.020670</td>\n",
       "      <td>0.332691</td>\n",
       "      <td>3.303317</td>\n",
       "      <td>0.014412</td>\n",
       "      <td>1.347630</td>\n",
       "      <td>0.743464</td>\n",
       "    </tr>\n",
       "    <tr>\n",
       "      <th>21</th>\n",
       "      <td>(Drinkware)</td>\n",
       "      <td>(Office, Apparel)</td>\n",
       "      <td>0.100714</td>\n",
       "      <td>0.062128</td>\n",
       "      <td>0.020670</td>\n",
       "      <td>0.205230</td>\n",
       "      <td>3.303317</td>\n",
       "      <td>0.014412</td>\n",
       "      <td>1.180054</td>\n",
       "      <td>0.775364</td>\n",
       "    </tr>\n",
       "    <tr>\n",
       "      <th>22</th>\n",
       "      <td>(Office)</td>\n",
       "      <td>(Drinkware, Apparel)</td>\n",
       "      <td>0.140697</td>\n",
       "      <td>0.045010</td>\n",
       "      <td>0.020670</td>\n",
       "      <td>0.146909</td>\n",
       "      <td>3.263899</td>\n",
       "      <td>0.014337</td>\n",
       "      <td>1.119446</td>\n",
       "      <td>0.807186</td>\n",
       "    </tr>\n",
       "  </tbody>\n",
       "</table>\n",
       "</div>"
      ],
      "text/plain": [
       "             antecedents           consequents  antecedent support  \\\n",
       "8                 (Bags)           (Drinkware)            0.061650   \n",
       "9            (Drinkware)                (Bags)            0.100714   \n",
       "10                (Bags)              (Office)            0.061650   \n",
       "11              (Office)                (Bags)            0.140697   \n",
       "12           (Drinkware)           (Lifestyle)            0.100714   \n",
       "13           (Lifestyle)           (Drinkware)            0.068313   \n",
       "14           (Drinkware)              (Office)            0.100714   \n",
       "15              (Office)           (Drinkware)            0.140697   \n",
       "16              (Office)           (Lifestyle)            0.140697   \n",
       "17           (Lifestyle)              (Office)            0.068313   \n",
       "19  (Drinkware, Apparel)              (Office)            0.045010   \n",
       "20     (Office, Apparel)           (Drinkware)            0.062128   \n",
       "21           (Drinkware)     (Office, Apparel)            0.100714   \n",
       "22              (Office)  (Drinkware, Apparel)            0.140697   \n",
       "\n",
       "    consequent support   support  confidence      lift  leverage  conviction  \\\n",
       "8             0.100714  0.021707    0.352104  3.496065  0.015498    1.388008   \n",
       "9             0.061650  0.021707    0.215531  3.496065  0.015498    1.196160   \n",
       "10            0.140697  0.026336    0.427184  3.036208  0.017662    1.500140   \n",
       "11            0.061650  0.026336    0.187181  3.036208  0.017662    1.154439   \n",
       "12            0.068313  0.025857    0.256735  3.758203  0.018977    1.253506   \n",
       "13            0.100714  0.025857    0.378505  3.758203  0.018977    1.446971   \n",
       "14            0.140697  0.046287    0.459588  3.266516  0.032117    1.590089   \n",
       "15            0.100714  0.046287    0.328985  3.266516  0.032117    1.340187   \n",
       "16            0.068313  0.035114    0.249575  3.653381  0.025503    1.241545   \n",
       "17            0.140697  0.035114    0.514019  3.653381  0.025503    1.768182   \n",
       "19            0.140697  0.020670    0.459220  3.263899  0.014337    1.589007   \n",
       "20            0.100714  0.020670    0.332691  3.303317  0.014412    1.347630   \n",
       "21            0.062128  0.020670    0.205230  3.303317  0.014412    1.180054   \n",
       "22            0.045010  0.020670    0.146909  3.263899  0.014337    1.119446   \n",
       "\n",
       "    zhangs_metric  \n",
       "8        0.760872  \n",
       "9        0.793924  \n",
       "10       0.714703  \n",
       "11       0.780448  \n",
       "12       0.816109  \n",
       "13       0.787728  \n",
       "14       0.771572  \n",
       "15       0.807472  \n",
       "16       0.845197  \n",
       "17       0.779533  \n",
       "19       0.726309  \n",
       "20       0.743464  \n",
       "21       0.775364  \n",
       "22       0.807186  "
      ]
     },
     "execution_count": 139,
     "metadata": {},
     "output_type": "execute_result"
    }
   ],
   "source": [
    "rules[(rules['lift']>=1.5) & (rules['confidence']>=0.05) ]"
   ]
  },
  {
   "cell_type": "markdown",
   "id": "f1a3d69b",
   "metadata": {},
   "source": [
    "    these combination could be best to sell"
   ]
  },
  {
   "cell_type": "markdown",
   "id": "93573aa7",
   "metadata": {},
   "source": [
    "# 6 Predicting Next Purchase Day"
   ]
  },
  {
   "cell_type": "code",
   "execution_count": 140,
   "id": "72a4b2b6",
   "metadata": {},
   "outputs": [],
   "source": [
    "# 6. Predicting Next Purchase Day(How soon each customer can visit the store (0-30 days, 30-60\n",
    "# days, 60-90 days, 90+ days)\n",
    "#  For this, we need create dependent variable at customer level (average days per one\n",
    "# transaction for only repeat customers and divide into groups 0-30 days, 30-60 days,\n",
    "# 60-90 days and 90+ days) then build classification model to predict next purchase of\n",
    "# given customer."
   ]
  },
  {
   "cell_type": "code",
   "execution_count": 85,
   "id": "2cd65706",
   "metadata": {},
   "outputs": [],
   "source": [
    "repeat_cust = df.groupby('CustomerID')['Transaction_ID'].count().reset_index()\n",
    "repeat_cust = repeat_cust[repeat_cust['Transaction_ID']>1]\n",
    "repeat_cust = df[df['CustomerID'].isin(repeat_cust['CustomerID'])]"
   ]
  },
  {
   "cell_type": "code",
   "execution_count": 86,
   "id": "babe0c15",
   "metadata": {},
   "outputs": [],
   "source": [
    "eu = repeat_cust.groupby('CustomerID')['Transaction_Date'].apply(lambda x: x.diff().mean().days).reset_index().rename(columns= {'Transaction_Date': 'Avg_days'})\n",
    "eu['days_label'] = pd.cut(eu['Avg_days'], bins=[-1, 30, 60, 90, float('inf')], labels=['0-30 days', '30-60 days', '60-90 days', '90+ days'])"
   ]
  },
  {
   "cell_type": "code",
   "execution_count": 145,
   "id": "391b3c5a",
   "metadata": {},
   "outputs": [
    {
     "data": {
      "text/html": [
       "<div>\n",
       "<style scoped>\n",
       "    .dataframe tbody tr th:only-of-type {\n",
       "        vertical-align: middle;\n",
       "    }\n",
       "\n",
       "    .dataframe tbody tr th {\n",
       "        vertical-align: top;\n",
       "    }\n",
       "\n",
       "    .dataframe thead th {\n",
       "        text-align: right;\n",
       "    }\n",
       "</style>\n",
       "<table border=\"1\" class=\"dataframe\">\n",
       "  <thead>\n",
       "    <tr style=\"text-align: right;\">\n",
       "      <th></th>\n",
       "      <th>CustomerID</th>\n",
       "      <th>Avg_days</th>\n",
       "      <th>days_label</th>\n",
       "    </tr>\n",
       "  </thead>\n",
       "  <tbody>\n",
       "    <tr>\n",
       "      <th>0</th>\n",
       "      <td>12346</td>\n",
       "      <td>0</td>\n",
       "      <td>NaN</td>\n",
       "    </tr>\n",
       "    <tr>\n",
       "      <th>1</th>\n",
       "      <td>12347</td>\n",
       "      <td>3</td>\n",
       "      <td>0-30 days</td>\n",
       "    </tr>\n",
       "    <tr>\n",
       "      <th>2</th>\n",
       "      <td>12348</td>\n",
       "      <td>5</td>\n",
       "      <td>0-30 days</td>\n",
       "    </tr>\n",
       "    <tr>\n",
       "      <th>3</th>\n",
       "      <td>12350</td>\n",
       "      <td>0</td>\n",
       "      <td>NaN</td>\n",
       "    </tr>\n",
       "    <tr>\n",
       "      <th>4</th>\n",
       "      <td>12356</td>\n",
       "      <td>0</td>\n",
       "      <td>NaN</td>\n",
       "    </tr>\n",
       "    <tr>\n",
       "      <th>...</th>\n",
       "      <td>...</td>\n",
       "      <td>...</td>\n",
       "      <td>...</td>\n",
       "    </tr>\n",
       "    <tr>\n",
       "      <th>1397</th>\n",
       "      <td>18256</td>\n",
       "      <td>0</td>\n",
       "      <td>NaN</td>\n",
       "    </tr>\n",
       "    <tr>\n",
       "      <th>1398</th>\n",
       "      <td>18259</td>\n",
       "      <td>0</td>\n",
       "      <td>NaN</td>\n",
       "    </tr>\n",
       "    <tr>\n",
       "      <th>1399</th>\n",
       "      <td>18260</td>\n",
       "      <td>2</td>\n",
       "      <td>0-30 days</td>\n",
       "    </tr>\n",
       "    <tr>\n",
       "      <th>1400</th>\n",
       "      <td>18269</td>\n",
       "      <td>10</td>\n",
       "      <td>0-30 days</td>\n",
       "    </tr>\n",
       "    <tr>\n",
       "      <th>1401</th>\n",
       "      <td>18283</td>\n",
       "      <td>0</td>\n",
       "      <td>NaN</td>\n",
       "    </tr>\n",
       "  </tbody>\n",
       "</table>\n",
       "<p>1402 rows × 3 columns</p>\n",
       "</div>"
      ],
      "text/plain": [
       "      CustomerID  Avg_days days_label\n",
       "0          12346         0        NaN\n",
       "1          12347         3  0-30 days\n",
       "2          12348         5  0-30 days\n",
       "3          12350         0        NaN\n",
       "4          12356         0        NaN\n",
       "...          ...       ...        ...\n",
       "1397       18256         0        NaN\n",
       "1398       18259         0        NaN\n",
       "1399       18260         2  0-30 days\n",
       "1400       18269        10  0-30 days\n",
       "1401       18283         0        NaN\n",
       "\n",
       "[1402 rows x 3 columns]"
      ]
     },
     "execution_count": 145,
     "metadata": {},
     "output_type": "execute_result"
    }
   ],
   "source": [
    "eu"
   ]
  },
  {
   "cell_type": "code",
   "execution_count": 267,
   "id": "74f6b360",
   "metadata": {},
   "outputs": [],
   "source": [
    "p = pd.merge(rfm_df,eu,on='CustomerID', how = 'right')"
   ]
  },
  {
   "cell_type": "code",
   "execution_count": 269,
   "id": "ff1b6085",
   "metadata": {},
   "outputs": [],
   "source": [
    "from sklearn.preprocessing import LabelEncoder"
   ]
  },
  {
   "cell_type": "code",
   "execution_count": 279,
   "id": "62e46b90",
   "metadata": {},
   "outputs": [],
   "source": [
    "X = p[['Recency','Frequency','Monetary','segment']]"
   ]
  },
  {
   "cell_type": "code",
   "execution_count": 289,
   "id": "1cfd33ce",
   "metadata": {},
   "outputs": [],
   "source": [
    "encode = LabelEncoder()\n",
    "X['segment'] = encode.fit_transform(X['segment'])\n",
    "y = p['days_label']"
   ]
  },
  {
   "cell_type": "code",
   "execution_count": 292,
   "id": "3ff3afab",
   "metadata": {},
   "outputs": [],
   "source": [
    "from sklearn.ensemble import RandomForestClassifier\n",
    "from sklearn.model_selection import train_test_split\n",
    "from sklearn.metrics import accuracy_score"
   ]
  },
  {
   "cell_type": "code",
   "execution_count": 293,
   "id": "b4f00dbd",
   "metadata": {},
   "outputs": [],
   "source": [
    "X_train, X_test, y_train, y_test = train_test_split(X, y, test_size=0.2, random_state=0)"
   ]
  },
  {
   "cell_type": "code",
   "execution_count": 296,
   "id": "a3c32954",
   "metadata": {},
   "outputs": [
    {
     "data": {
      "text/plain": [
       "0.9893238434163701"
      ]
     },
     "execution_count": 296,
     "metadata": {},
     "output_type": "execute_result"
    }
   ],
   "source": [
    "rf_clf = RandomForestClassifier()\n",
    "\n",
    "rf_clf.fit(X_train,y_train)\n",
    "\n",
    "y_pred_train = rf_clf.predict(X_train)\n",
    "y_pred_test  = rf_clf.predict(X_test)\n",
    "\n",
    "accuracy_score(y_test,y_pred_test)"
   ]
  },
  {
   "cell_type": "markdown",
   "id": "b09bf16c",
   "metadata": {},
   "source": [
    "# 7 Cohort Analysis"
   ]
  },
  {
   "cell_type": "code",
   "execution_count": 320,
   "id": "b283891d",
   "metadata": {},
   "outputs": [],
   "source": [
    "# Customers who started in each month and understand their behaviour\n",
    "#  Which Month cohort has maximum retention?"
   ]
  },
  {
   "cell_type": "code",
   "execution_count": 361,
   "id": "9cc1a137",
   "metadata": {},
   "outputs": [
    {
     "data": {
      "text/plain": [
       "Index(['CustomerID', 'Gender', 'Location', 'Tenure_Months', 'Transaction_ID',\n",
       "       'Transaction_Date', 'Product_SKU', 'Product_Description',\n",
       "       'Product_Category', 'Quantity', 'Avg_Price', 'Delivery_Charges',\n",
       "       'Coupon_Status', 'Month', 'Coupon_Code', 'Discount_pct', 'GST', 'Date',\n",
       "       'Offline_Spend', 'Online_Spend', 'Invoice', 'weekday',\n",
       "       'total_marketing_spend', 'Recency', 'Frequency', 'Monetary',\n",
       "       'recency_score', 'frequency_score', 'monetary_score', 'RFM_Segment'],\n",
       "      dtype='object')"
      ]
     },
     "execution_count": 361,
     "metadata": {},
     "output_type": "execute_result"
    }
   ],
   "source": [
    "df.columns"
   ]
  },
  {
   "cell_type": "code",
   "execution_count": 362,
   "id": "8427760b",
   "metadata": {},
   "outputs": [],
   "source": [
    "cohort = df.groupby('Month').agg({'CustomerID': 'nunique', 'Invoice' : ['count' , 'sum']})"
   ]
  },
  {
   "cell_type": "code",
   "execution_count": 365,
   "id": "f82b5d79",
   "metadata": {},
   "outputs": [],
   "source": [
    "cohort.columns = [['Unique_Customers', 'Total_Invoices', 'Total_Invoice_Sum']]\n",
    "cohort = cohort.reset_index()"
   ]
  },
  {
   "cell_type": "code",
   "execution_count": 430,
   "id": "54060be9",
   "metadata": {},
   "outputs": [],
   "source": [
    "cohort_size = cohort.iloc[:, 1]\n",
    "retention = cohort.divide(cohort_size, axis=0)"
   ]
  },
  {
   "cell_type": "code",
   "execution_count": 431,
   "id": "d6a0692e",
   "metadata": {},
   "outputs": [
    {
     "data": {
      "text/plain": [
       "Unique_Customers    7\n",
       "dtype: int64"
      ]
     },
     "execution_count": 431,
     "metadata": {},
     "output_type": "execute_result"
    }
   ],
   "source": [
    "max_retention_month = cohort['Unique_Customers'].idxmax()\n",
    "max_retention_month"
   ]
  },
  {
   "cell_type": "code",
   "execution_count": 439,
   "id": "57f89d86",
   "metadata": {},
   "outputs": [
    {
     "name": "stdout",
     "output_type": "stream",
     "text": [
      "   Cohort Metrics:\n",
      "   Month Unique_Customers Total_Invoices Total_Invoice_Sum\n",
      "0      1              215           4063      494090.54875\n",
      "1      2              109           3284      375162.04730\n",
      "2      3              208           4346      415157.79044\n",
      "3      4              224           4150      477498.59102\n",
      "4      5              200           4572      365596.02956\n",
      "5      6              259           4193      361000.17429\n",
      "6      7              236           5251      451878.40904\n",
      "7      8              300           6150      475796.87554\n",
      "8      9              193           4288      396510.49254\n",
      "9     10              210           4164      480767.36981\n",
      "10    11              188           3961      547788.12626\n",
      "11    12              236           4502      556112.29179\n",
      "\n",
      "\n",
      "      Cohort Retention Rates:\n",
      "       Month Unique_Customers Total_Invoices Total_Invoice_Sum\n",
      "0   0.004651              1.0      18.897674       2298.095576\n",
      "1   0.018349              1.0      30.128440       3441.853645\n",
      "2   0.014423              1.0      20.894231       1995.950916\n",
      "3   0.017857              1.0      18.526786       2131.690138\n",
      "4   0.025000              1.0      22.860000       1827.980148\n",
      "5   0.023166              1.0      16.189189       1393.823067\n",
      "6   0.029661              1.0      22.250000       1914.739021\n",
      "7   0.026667              1.0      20.500000       1585.989585\n",
      "8   0.046632              1.0      22.217617       2054.458511\n",
      "9   0.047619              1.0      19.828571       2289.368428\n",
      "10  0.058511              1.0      21.069149       2913.766629\n",
      "11  0.050847              1.0      19.076271       2356.408016\n",
      "\n",
      "\n",
      "\n",
      "    Month cohort with maximum retention: Unique_Customers    7\n",
      "dtype: int64\n"
     ]
    }
   ],
   "source": [
    "print(\"   Cohort Metrics:\")\n",
    "print(cohort)\n",
    "print('\\n')\n",
    "print(\"      Cohort Retention Rates:\")\n",
    "print(retention)\n",
    "print('\\n\\n')\n",
    "print(\"    Month cohort with maximum retention:\", max_retention_month)"
   ]
  }
 ],
 "metadata": {
  "kernelspec": {
   "display_name": "Python 3 (ipykernel)",
   "language": "python",
   "name": "python3"
  },
  "language_info": {
   "codemirror_mode": {
    "name": "ipython",
    "version": 3
   },
   "file_extension": ".py",
   "mimetype": "text/x-python",
   "name": "python",
   "nbconvert_exporter": "python",
   "pygments_lexer": "ipython3",
   "version": "3.10.9"
  }
 },
 "nbformat": 4,
 "nbformat_minor": 5
}
